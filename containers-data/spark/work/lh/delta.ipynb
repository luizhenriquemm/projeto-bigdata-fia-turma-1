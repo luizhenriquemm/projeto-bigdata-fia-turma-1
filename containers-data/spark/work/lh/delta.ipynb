{
 "cells": [
  {
   "cell_type": "code",
   "execution_count": 1,
   "id": "bafe7d16-6720-4ecb-8b70-c7b30b65e156",
   "metadata": {},
   "outputs": [],
   "source": [
    "from delta import DeltaTable"
   ]
  },
  {
   "cell_type": "code",
   "execution_count": null,
   "id": "a37ab532-e5e5-47a5-85e7-37009da38476",
   "metadata": {},
   "outputs": [],
   "source": [
    "df = spark.read.json(\"s3://raw/\")\n",
    "\n",
    "DeltaTable.createIfNotExists(spark)\n",
    "  .tableName(\"stage.nomedatabela\")\n",
    "  .addColumns(df.schema)\n",
    "  .execute()\n",
    "    \n",
    "deltaTable = DeltaTable.forName(spark, \"stage.nomedatabela\")\n",
    "\n",
    "deltaTable.alias('destiny') \\\n",
    "  .merge(\n",
    "    df.alias('source'),\n",
    "    'source.id = destiny.id'\n",
    "  ) \\\n",
    "  .whenMatchedUpdateAll() \\\n",
    "  .whenNotMatchedInsertAll() \\\n",
    "  .execute()"
   ]
  }
 ],
 "metadata": {
  "kernelspec": {
   "display_name": "Python 3 (ipykernel)",
   "language": "python",
   "name": "python3"
  },
  "language_info": {
   "codemirror_mode": {
    "name": "ipython",
    "version": 3
   },
   "file_extension": ".py",
   "mimetype": "text/x-python",
   "name": "python",
   "nbconvert_exporter": "python",
   "pygments_lexer": "ipython3",
   "version": "3.10.8"
  }
 },
 "nbformat": 4,
 "nbformat_minor": 5
}
