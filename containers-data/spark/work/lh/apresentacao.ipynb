{
 "cells": [
  {
   "cell_type": "code",
   "execution_count": 1,
   "id": "e6cd86f5-dead-4673-8474-5a33e60e75b8",
   "metadata": {},
   "outputs": [],
   "source": [
    "import requests\n",
    "from pyspark.sql import SparkSession, Row, Window\n",
    "from pyspark.sql.functions import *\n",
    "from pyspark.sql.types import *\n",
    "import time\n",
    "import json\n",
    "from delta import DeltaTable\n",
    "\n",
    "spark = (SparkSession.builder\n",
    "             .appName('lab') # Name the app\n",
    "             .config(\"hive.metastore.uris\", \"thrift://metastore:9083\") # Set external Hive Metastore\n",
    "             .config(\"hive.metastore.schema.verification\", \"false\") # Prevent some errors\n",
    "             .config(\"spark.sql.repl.eagerEval.enabled\", True)\n",
    "             .config(\"spark.sql.extensions\", \"io.delta.sql.DeltaSparkSessionExtension\")\n",
    "             .config(\"spark.sql.catalog.spark_catalog\", \"org.apache.spark.sql.delta.catalog.DeltaCatalog\")\n",
    "             .enableHiveSupport()\n",
    "             .getOrCreate())\n",
    "\n",
    "dt_now = \"2024-09-24\""
   ]
  },
  {
   "cell_type": "code",
   "execution_count": 3,
   "id": "b43c6c9f-d124-4fcc-b090-2d25c1b3154e",
   "metadata": {},
   "outputs": [
    {
     "name": "stdout",
     "output_type": "stream",
     "text": [
      "+---------+-----------+-----------+\n",
      "|namespace|  tableName|isTemporary|\n",
      "+---------+-----------+-----------+\n",
      "| business|    posicao|      false|\n",
      "| business|   previsao|      false|\n",
      "| business|    paradas|      false|\n",
      "| business|paradas_api|      false|\n",
      "| business|      trips|      false|\n",
      "| business| linhas_api|      false|\n",
      "+---------+-----------+-----------+\n",
      "\n"
     ]
    }
   ],
   "source": [
    "spark.sql(\"show tables from business\").show()"
   ]
  },
  {
   "cell_type": "code",
   "execution_count": 6,
   "id": "4ef29de1-768c-47a3-b5fa-332d4d4129e8",
   "metadata": {},
   "outputs": [
    {
     "name": "stdout",
     "output_type": "stream",
     "text": [
      "+-----+-------+---+-------------------+----------------+---+---+----+-----+----------+----------+--------------------+\n",
      "|Hora |c      |cl |lt0                |lt1             |qv |sl |a   |p    |px        |py        |ta                  |\n",
      "+-----+-------+---+-------------------+----------------+---+---+----+-----+----------+----------+--------------------+\n",
      "|23:00|5119-10|1  |LGO. SÃO FRANCISCO |TERM. CAPELINHA |9  |1  |true|71135|-46.69148 |-23.586823|2024-09-24T02:00:00Z|\n",
      "|22:30|5119-10|1  |LGO. SÃO FRANCISCO |TERM. CAPELINHA |10 |1  |true|71160|-46.74717 |-23.647203|2024-09-24T01:29:37Z|\n",
      "|23:00|5119-10|1  |LGO. SÃO FRANCISCO |TERM. CAPELINHA |9  |1  |true|71168|-46.752617|-23.649199|2024-09-24T02:00:02Z|\n",
      "|22:37|5119-10|1  |LGO. SÃO FRANCISCO |TERM. CAPELINHA |9  |1  |true|71172|-46.63611 |-23.552088|2024-09-24T01:36:58Z|\n",
      "|22:30|5119-10|1  |LGO. SÃO FRANCISCO |TERM. CAPELINHA |10 |1  |true|71181|-46.63749 |-23.552498|2024-09-24T01:30:06Z|\n",
      "|23:00|5119-10|1  |LGO. SÃO FRANCISCO |TERM. CAPELINHA |9  |1  |true|71188|-46.637157|-23.55239 |2024-09-24T01:59:45Z|\n",
      "|23:00|5119-10|1  |LGO. SÃO FRANCISCO |TERM. CAPELINHA |9  |1  |true|71242|-46.734806|-23.626062|2024-09-24T01:59:38Z|\n",
      "|22:15|5119-10|1  |LGO. SÃO FRANCISCO |TERM. CAPELINHA |9  |1  |true|71257|-46.637157|-23.55239 |2024-09-24T01:14:34Z|\n",
      "|23:00|5119-10|1  |LGO. SÃO FRANCISCO |TERM. CAPELINHA |9  |1  |true|71259|-46.734806|-23.626062|2024-09-24T01:59:54Z|\n",
      "|22:37|5119-10|1  |LGO. SÃO FRANCISCO |TERM. CAPELINHA |9  |1  |true|71316|-46.635895|-23.55099 |2024-09-24T01:37:11Z|\n",
      "|23:00|5119-10|1  |LGO. SÃO FRANCISCO |TERM. CAPELINHA |9  |1  |true|71383|-46.749157|-23.648462|2024-09-24T02:00:09Z|\n",
      "|23:00|5119-10|1  |LGO. SÃO FRANCISCO |TERM. CAPELINHA |9  |1  |true|71655|-46.648685|-23.567068|2024-09-24T01:59:30Z|\n",
      "|23:00|5119-10|1  |LGO. SÃO FRANCISCO |TERM. CAPELINHA |9  |1  |true|71693|-46.641174|-23.557875|2024-09-24T02:00:16Z|\n",
      "|23:00|5119-10|1  |LGO. SÃO FRANCISCO |TERM. CAPELINHA |9  |1  |true|71736|-46.68227 |-23.584892|2024-09-24T02:00:10Z|\n",
      "|23:00|669A-10|4  |TERM. PRINC. ISABEL|TERM. STO. AMARO|6  |1  |true|77425|-46.64764 |-23.542385|2024-09-24T01:59:42Z|\n",
      "|23:00|669A-10|4  |TERM. PRINC. ISABEL|TERM. STO. AMARO|6  |1  |true|77453|-46.686794|-23.625687|2024-09-24T02:00:15Z|\n",
      "|23:00|669A-10|4  |TERM. PRINC. ISABEL|TERM. STO. AMARO|6  |1  |true|77502|-46.67034 |-23.584768|2024-09-24T02:00:12Z|\n",
      "|23:00|669A-10|4  |TERM. PRINC. ISABEL|TERM. STO. AMARO|6  |1  |true|77503|-46.64475 |-23.535063|2024-09-24T01:59:41Z|\n",
      "|23:00|669A-10|4  |TERM. PRINC. ISABEL|TERM. STO. AMARO|6  |1  |true|77504|-46.656906|-23.56097 |2024-09-24T02:00:02Z|\n",
      "|22:37|669A-10|4  |TERM. PRINC. ISABEL|TERM. STO. AMARO|7  |1  |true|77507|-46.64475 |-23.535063|2024-09-24T01:36:49Z|\n",
      "+-----+-------+---+-------------------+----------------+---+---+----+-----+----------+----------+--------------------+\n",
      "only showing top 20 rows\n",
      "\n"
     ]
    }
   ],
   "source": [
    "spark.table(\"business.posicao\").show(truncate=False)"
   ]
  }
 ],
 "metadata": {
  "kernelspec": {
   "display_name": "Python 3 (ipykernel)",
   "language": "python",
   "name": "python3"
  },
  "language_info": {
   "codemirror_mode": {
    "name": "ipython",
    "version": 3
   },
   "file_extension": ".py",
   "mimetype": "text/x-python",
   "name": "python",
   "nbconvert_exporter": "python",
   "pygments_lexer": "ipython3",
   "version": "3.10.8"
  }
 },
 "nbformat": 4,
 "nbformat_minor": 5
}
