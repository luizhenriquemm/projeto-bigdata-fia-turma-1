{
 "cells": [
  {
   "cell_type": "code",
   "execution_count": 8,
   "id": "04364978-ae4a-45b4-85db-0e0e14daf649",
   "metadata": {},
   "outputs": [],
   "source": [
    "import requests\n",
    "from pyspark.sql import SparkSession, Row, Window\n",
    "from pyspark.sql.functions import *\n",
    "from pyspark.sql.types import *\n",
    "import time\n",
    "import json\n",
    "from delta import DeltaTable\n",
    "\n",
    "spark = (SparkSession.builder\n",
    "             .appName('lab') # Name the app\n",
    "             .config(\"hive.metastore.uris\", \"thrift://metastore:9083\") # Set external Hive Metastore\n",
    "             .config(\"hive.metastore.schema.verification\", \"false\") # Prevent some errors\n",
    "             .config(\"spark.sql.repl.eagerEval.enabled\", True)\n",
    "             .config(\"spark.sql.extensions\", \"io.delta.sql.DeltaSparkSessionExtension\")\n",
    "             .config(\"spark.sql.catalog.spark_catalog\", \"org.apache.spark.sql.delta.catalog.DeltaCatalog\")\n",
    "             .enableHiveSupport()\n",
    "             .getOrCreate())"
   ]
  },
  {
   "cell_type": "code",
   "execution_count": 2,
   "id": "9080ae50-3b17-4f3c-9d57-7d327429d8fa",
   "metadata": {},
   "outputs": [
    {
     "name": "stdout",
     "output_type": "stream",
     "text": [
      "+---------+\n",
      "|namespace|\n",
      "+---------+\n",
      "| business|\n",
      "|  default|\n",
      "|    stage|\n",
      "+---------+\n",
      "\n"
     ]
    }
   ],
   "source": [
    "spark.sql(\"show databases\").show()"
   ]
  },
  {
   "cell_type": "code",
   "execution_count": 40,
   "id": "7e79087a-e31a-41c1-91ed-89e7e4a50412",
   "metadata": {},
   "outputs": [
    {
     "name": "stdout",
     "output_type": "stream",
     "text": [
      "+---------+---------+-----------+\n",
      "|namespace|tableName|isTemporary|\n",
      "+---------+---------+-----------+\n",
      "| business|  posicao|      false|\n",
      "+---------+---------+-----------+\n",
      "\n"
     ]
    }
   ],
   "source": [
    "spark.sql(\"show tables from business\").show()"
   ]
  },
  {
   "cell_type": "code",
   "execution_count": 34,
   "id": "7cac801f-18b4-428d-9e58-6a03d40b9973",
   "metadata": {},
   "outputs": [
    {
     "data": {
      "text/html": [
       "<table border='1'>\n",
       "<tr><th>cp</th><th>c</th><th>cl</th><th>lt0</th><th>lt1</th><th>qv</th><th>sl</th><th>a</th><th>p</th><th>px</th><th>py</th><th>ta</th><th>np</th><th>px</th><th>py</th></tr>\n",
       "<tr><td>100014344</td><td>2123-10</td><td>33460</td><td>LIBERDADE</td><td>VL. MEDEIROS</td><td>1</td><td>2</td><td>true</td><td>21322</td><td>-46.616203</td><td>-23.542707</td><td>2024-09-23T23:15:28Z</td><td></td><td>-46.616608</td><td>-23.535778</td></tr>\n",
       "<tr><td>100014344</td><td>271F-10</td><td>33451</td><td>METRÔ BELÉM     </td><td>CENTER NORTE</td><td>1</td><td>2</td><td>true</td><td>21728</td><td>-46.607777</td><td>-23.539167</td><td>2024-09-23T23:15:23Z</td><td></td><td>-46.616608</td><td>-23.535778</td></tr>\n",
       "<tr><td>100014344</td><td>701A-10</td><td>689</td><td>METRÔ VL. MADALENA</td><td>PQ. EDU CHAVES</td><td>2</td><td>1</td><td>true</td><td>21386</td><td>-46.594788</td><td>-23.524677</td><td>2024-09-23T23:15:34Z</td><td></td><td>-46.616608</td><td>-23.535778</td></tr>\n",
       "<tr><td>100014344</td><td>701A-10</td><td>689</td><td>METRÔ VL. MADALENA</td><td>PQ. EDU CHAVES</td><td>2</td><td>1</td><td>true</td><td>21871</td><td>-46.576435</td><td>-23.488453</td><td>2024-09-23T23:15:15Z</td><td></td><td>-46.616608</td><td>-23.535778</td></tr>\n",
       "</table>\n"
      ],
      "text/plain": [
       "+---------+-------+-----+------------------+--------------+---+---+----+-----+----------+----------+--------------------+---+----------+----------+\n",
       "|       cp|      c|   cl|               lt0|           lt1| qv| sl|   a|    p|        px|        py|                  ta| np|        px|        py|\n",
       "+---------+-------+-----+------------------+--------------+---+---+----+-----+----------+----------+--------------------+---+----------+----------+\n",
       "|100014344|2123-10|33460|         LIBERDADE|  VL. MEDEIROS|  1|  2|true|21322|-46.616203|-23.542707|2024-09-23T23:15:28Z|   |-46.616608|-23.535778|\n",
       "|100014344|271F-10|33451|  METRÔ BELÉM     |  CENTER NORTE|  1|  2|true|21728|-46.607777|-23.539167|2024-09-23T23:15:23Z|   |-46.616608|-23.535778|\n",
       "|100014344|701A-10|  689|METRÔ VL. MADALENA|PQ. EDU CHAVES|  2|  1|true|21386|-46.594788|-23.524677|2024-09-23T23:15:34Z|   |-46.616608|-23.535778|\n",
       "|100014344|701A-10|  689|METRÔ VL. MADALENA|PQ. EDU CHAVES|  2|  1|true|21871|-46.576435|-23.488453|2024-09-23T23:15:15Z|   |-46.616608|-23.535778|\n",
       "+---------+-------+-----+------------------+--------------+---+---+----+-----+----------+----------+--------------------+---+----------+----------+"
      ]
     },
     "execution_count": 34,
     "metadata": {},
     "output_type": "execute_result"
    }
   ],
   "source": [
    "df_previsao_t.filter(\"cp = '100014344'\")"
   ]
  },
  {
   "cell_type": "code",
   "execution_count": 47,
   "id": "5f6dec65-b392-4822-8f4a-ab4a48998e5b",
   "metadata": {},
   "outputs": [
    {
     "name": "stdout",
     "output_type": "stream",
     "text": [
      "+-----+-------+-------+-----+--------------------+--------------------+---+---+----+-----+----------+----------+--------------------+--------------------+----------+----------+\n",
      "|   hr|     cp|      c|   cl|                 lt0|                 lt1| qv| sl|vs_a| vs_p|     vs_px|     vs_py|               vs_ta|                  np|        px|        py|\n",
      "+-----+-------+-------+-----+--------------------+--------------------+---+---+----+-----+----------+----------+--------------------+--------------------+----------+----------+\n",
      "|20:03| 404598|407Y-10| 2206|  METRÔ VL. PRUDENTE|      PQ. SAVOY CITY|  1|  1|true|48033|-46.509346| -23.57051|2024-09-23T23:03:16Z|                    | -46.51706|-23.576618|\n",
      "|20:03| 600539|875P-10|34109|      METRÔ ANA ROSA|   METRÔ BARRA FUNDA|  2|  2|true|82754| -46.66222| -23.55635|2024-09-23T23:03:12Z|                    | -46.66213| -23.53247|\n",
      "|20:03| 614547|2014-10|  900|   METRÔ BARRA FUNDA|       JD. PERY ALTO|  5|  1|true|25015| -46.66427|-23.484724|2024-09-23T23:03:46Z|                    |-46.676105|-23.528704|\n",
      "|20:03| 614566|209P-10|34984|     TERM. PINHEIROS|        CACHOEIRINHA|  1|  2|true|21609| -46.69195|-23.566334|2024-09-23T23:03:49Z|                    | -46.67038|-23.524506|\n",
      "|20:03| 706308|967A-10|  568|           PINHEIROS|              IMIRIM|  3|  1|true|21299|-46.645958|-23.563038|2024-09-23T23:03:42Z|PARADA AVENIDA PA...|-46.648197|-23.566212|\n",
      "|20:03| 810593|3139-10|33763|    PÇA. JOÃO MENDES|     JD. VL. FORMOSA|  1|  2|true|41119| -46.62438|  -23.5521|2024-09-23T23:03:26Z|                    |-46.588604|-23.556723|\n",
      "|20:04|1114253|8549-10|33348|     PÇA. DO CORREIO|              TAIPAS|  3|  2|true|11783|-46.693237|-23.499187|2024-09-23T23:03:47Z|                    | -46.67769|-23.471483|\n",
      "|20:04|1206720|8019-10| 2071|       METRÔ BUTANTÃ|     PQ. CONTINENTAL|  3|  1|true|80092|-46.746822|-23.562443|2024-09-23T23:01:04Z|   PARADA AFONSO VAZ|-46.716034|  -23.5697|\n",
      "|20:04|1206916|746H-10|33553|          STO. AMARO|       JD. JAQUELINE|  5|  2|true|86102|-46.725025|-23.602474|2024-09-23T23:04:03Z|                    |-46.727924|-23.584326|\n",
      "|20:04|1206916|746H-10|33553|          STO. AMARO|       JD. JAQUELINE|  5|  2|true|86107| -46.72429|-23.586126|2024-09-23T23:03:42Z|                    |-46.727924|-23.584326|\n",
      "|20:04|1207028|715M-10|  490|     LGO. DA PÓLVORA|     JD. MARIA LUIZA|  1|  1|true|81969|-46.730164|-23.574734|2024-09-23T23:03:33Z|   PARADA SANTANESIA| -46.72247|-23.572401|\n",
      "|20:04|1313531|118C-10|33287| TERM. AMARAL GURGEL|       JD. PERY ALTO|  4|  2|true|22272| -46.65088|-23.471085|2024-09-23T23:03:43Z|                    |-46.664715|-23.467031|\n",
      "|20:04|1313557|2013-10|33667|        CACHOEIRINHA|     COHAB ANTÁRTICA|  9|  2|true|25207| -46.65622| -23.46325|2024-09-23T23:04:09Z|                    | -46.65658|-23.454517|\n",
      "|20:04|1410090|5142-10| 1626|TERM. PQ. D. PEDR...|     TERM. SAPOPEMBA|  3|  1|true|52931|-46.512394|-23.617207|2024-09-23T23:03:46Z|                    |-46.622337|-23.558334|\n",
      "|20:04|1602574|546T-10|  272|    TERM. STO. AMARO|         VL. GUACURI|  3|  1|true|68422|-46.636246|-23.702114|2024-09-23T23:04:05Z|                    | -46.68432|-23.679708|\n",
      "|20:04|1603323|607A-21| 2140|     EST. JURUBATUBA|           JD. APURÁ|  1|  1|true|68254|  -46.6607|-23.692585|2024-09-23T23:03:44Z|                    | -46.67811|-23.694944|\n",
      "|20:04|1603326|675G-10|32874|     METRÔ JABAQUARA|     PQ. RES. COCAIA|  1|  2|true|61267| -46.65241|-23.640978|2024-09-23T23:04:00Z|                    | -46.67772| -23.67217|\n",
      "|20:04|1707319|6837-10|32774|     TERM. CAPELINHA|        SHOP. PORTAL|  2|  2|true|85512| -46.76149| -23.64202|2024-09-23T23:04:18Z|                    | -46.75761|-23.627962|\n",
      "|20:04|1809548|2551-10|32909|TERM. PQ. D. PEDR...|TERM. A. E. CARVALHO|  1|  2|true|31633|-46.549797| -23.51649|2024-09-23T23:04:22Z|                    |-46.536808|-23.503674|\n",
      "|20:04|1814667|2590-10|  912|     PQ. D. PEDRO II|   UNIÃO DE VL. NOVA|  2|  1|true|56323|  -46.4558|-23.486315|2024-09-23T23:04:26Z|                    | -46.53471|-23.502289|\n",
      "+-----+-------+-------+-----+--------------------+--------------------+---+---+----+-----+----------+----------+--------------------+--------------------+----------+----------+\n",
      "only showing top 20 rows\n",
      "\n"
     ]
    }
   ],
   "source": [
    "spark.table(\"business.previsao\").show()"
   ]
  }
 ],
 "metadata": {
  "kernelspec": {
   "display_name": "Python 3 (ipykernel)",
   "language": "python",
   "name": "python3"
  },
  "language_info": {
   "codemirror_mode": {
    "name": "ipython",
    "version": 3
   },
   "file_extension": ".py",
   "mimetype": "text/x-python",
   "name": "python",
   "nbconvert_exporter": "python",
   "pygments_lexer": "ipython3",
   "version": "3.10.8"
  }
 },
 "nbformat": 4,
 "nbformat_minor": 5
}
