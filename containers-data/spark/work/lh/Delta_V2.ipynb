{
 "cells": [
  {
   "cell_type": "code",
   "execution_count": 1,
   "id": "01022fc1-84cf-447c-acde-8f5a5a777e96",
   "metadata": {},
   "outputs": [],
   "source": [
    "from delta import DeltaTable\n",
    "import requests\n",
    "from pyspark.sql import SparkSession, Row, Window\n",
    "from pyspark.sql.functions import *\n",
    "from pyspark.sql.types import *\n",
    "import time\n",
    "import json\n",
    "from pyspark.sql.functions import explode\n",
    "\n",
    "spark = (SparkSession.builder\n",
    "             .appName('lab') # Name the app\n",
    "             .config(\"hive.metastore.uris\", \"thrift://metastore:9083\") # Set external Hive Metastore\n",
    "             .config(\"hive.metastore.schema.verification\", \"false\") # Prevent some errors\n",
    "             .config(\"spark.sql.repl.eagerEval.enabled\", True)\n",
    "             .config(\"spark.sql.extensions\", \"io.delta.sql.DeltaSparkSessionExtension\")\n",
    "             .config(\"spark.sql.catalog.spark_catalog\", \"org.apache.spark.sql.delta.catalog.DeltaCatalog\")\n",
    "             .enableHiveSupport()\n",
    "             .getOrCreate())"
   ]
  },
  {
   "cell_type": "code",
   "execution_count": 11,
   "id": "f4ff44b9-0541-4015-9dc3-f5ca9f9a3c5b",
   "metadata": {},
   "outputs": [
    {
     "ename": "AnalysisException",
     "evalue": "spark_catalog requires a single-part namespace, but got [delta, stage]",
     "output_type": "error",
     "traceback": [
      "\u001b[0;31m---------------------------------------------------------------------------\u001b[0m",
      "\u001b[0;31mAnalysisException\u001b[0m                         Traceback (most recent call last)",
      "Cell \u001b[0;32mIn[11], line 1\u001b[0m\n\u001b[0;32m----> 1\u001b[0m \u001b[43mspark\u001b[49m\u001b[38;5;241;43m.\u001b[39;49m\u001b[43msql\u001b[49m\u001b[43m(\u001b[49m\u001b[38;5;124;43m\"\u001b[39;49m\u001b[38;5;124;43m SELECT * FROM  delta.stage.posicao WHERE  linha.c = \u001b[39;49m\u001b[38;5;124;43m'\u001b[39;49m\u001b[38;5;124;43m208V-10\u001b[39;49m\u001b[38;5;124;43m'\u001b[39;49m\u001b[38;5;124;43m\"\u001b[39;49m\u001b[43m)\u001b[49m\n",
      "File \u001b[0;32m/usr/local/spark/python/pyspark/sql/session.py:1034\u001b[0m, in \u001b[0;36mSparkSession.sql\u001b[0;34m(self, sqlQuery, **kwargs)\u001b[0m\n\u001b[1;32m   1032\u001b[0m     sqlQuery \u001b[38;5;241m=\u001b[39m formatter\u001b[38;5;241m.\u001b[39mformat(sqlQuery, \u001b[38;5;241m*\u001b[39m\u001b[38;5;241m*\u001b[39mkwargs)\n\u001b[1;32m   1033\u001b[0m \u001b[38;5;28;01mtry\u001b[39;00m:\n\u001b[0;32m-> 1034\u001b[0m     \u001b[38;5;28;01mreturn\u001b[39;00m DataFrame(\u001b[38;5;28;43mself\u001b[39;49m\u001b[38;5;241;43m.\u001b[39;49m\u001b[43m_jsparkSession\u001b[49m\u001b[38;5;241;43m.\u001b[39;49m\u001b[43msql\u001b[49m\u001b[43m(\u001b[49m\u001b[43msqlQuery\u001b[49m\u001b[43m)\u001b[49m, \u001b[38;5;28mself\u001b[39m)\n\u001b[1;32m   1035\u001b[0m \u001b[38;5;28;01mfinally\u001b[39;00m:\n\u001b[1;32m   1036\u001b[0m     \u001b[38;5;28;01mif\u001b[39;00m \u001b[38;5;28mlen\u001b[39m(kwargs) \u001b[38;5;241m>\u001b[39m \u001b[38;5;241m0\u001b[39m:\n",
      "File \u001b[0;32m/usr/local/spark/python/lib/py4j-0.10.9.5-src.zip/py4j/java_gateway.py:1321\u001b[0m, in \u001b[0;36mJavaMember.__call__\u001b[0;34m(self, *args)\u001b[0m\n\u001b[1;32m   1315\u001b[0m command \u001b[38;5;241m=\u001b[39m proto\u001b[38;5;241m.\u001b[39mCALL_COMMAND_NAME \u001b[38;5;241m+\u001b[39m\\\n\u001b[1;32m   1316\u001b[0m     \u001b[38;5;28mself\u001b[39m\u001b[38;5;241m.\u001b[39mcommand_header \u001b[38;5;241m+\u001b[39m\\\n\u001b[1;32m   1317\u001b[0m     args_command \u001b[38;5;241m+\u001b[39m\\\n\u001b[1;32m   1318\u001b[0m     proto\u001b[38;5;241m.\u001b[39mEND_COMMAND_PART\n\u001b[1;32m   1320\u001b[0m answer \u001b[38;5;241m=\u001b[39m \u001b[38;5;28mself\u001b[39m\u001b[38;5;241m.\u001b[39mgateway_client\u001b[38;5;241m.\u001b[39msend_command(command)\n\u001b[0;32m-> 1321\u001b[0m return_value \u001b[38;5;241m=\u001b[39m \u001b[43mget_return_value\u001b[49m\u001b[43m(\u001b[49m\n\u001b[1;32m   1322\u001b[0m \u001b[43m    \u001b[49m\u001b[43manswer\u001b[49m\u001b[43m,\u001b[49m\u001b[43m \u001b[49m\u001b[38;5;28;43mself\u001b[39;49m\u001b[38;5;241;43m.\u001b[39;49m\u001b[43mgateway_client\u001b[49m\u001b[43m,\u001b[49m\u001b[43m \u001b[49m\u001b[38;5;28;43mself\u001b[39;49m\u001b[38;5;241;43m.\u001b[39;49m\u001b[43mtarget_id\u001b[49m\u001b[43m,\u001b[49m\u001b[43m \u001b[49m\u001b[38;5;28;43mself\u001b[39;49m\u001b[38;5;241;43m.\u001b[39;49m\u001b[43mname\u001b[49m\u001b[43m)\u001b[49m\n\u001b[1;32m   1324\u001b[0m \u001b[38;5;28;01mfor\u001b[39;00m temp_arg \u001b[38;5;129;01min\u001b[39;00m temp_args:\n\u001b[1;32m   1325\u001b[0m     temp_arg\u001b[38;5;241m.\u001b[39m_detach()\n",
      "File \u001b[0;32m/usr/local/spark/python/pyspark/sql/utils.py:196\u001b[0m, in \u001b[0;36mcapture_sql_exception.<locals>.deco\u001b[0;34m(*a, **kw)\u001b[0m\n\u001b[1;32m    192\u001b[0m converted \u001b[38;5;241m=\u001b[39m convert_exception(e\u001b[38;5;241m.\u001b[39mjava_exception)\n\u001b[1;32m    193\u001b[0m \u001b[38;5;28;01mif\u001b[39;00m \u001b[38;5;129;01mnot\u001b[39;00m \u001b[38;5;28misinstance\u001b[39m(converted, UnknownException):\n\u001b[1;32m    194\u001b[0m     \u001b[38;5;66;03m# Hide where the exception came from that shows a non-Pythonic\u001b[39;00m\n\u001b[1;32m    195\u001b[0m     \u001b[38;5;66;03m# JVM exception message.\u001b[39;00m\n\u001b[0;32m--> 196\u001b[0m     \u001b[38;5;28;01mraise\u001b[39;00m converted \u001b[38;5;28;01mfrom\u001b[39;00m \u001b[38;5;28mNone\u001b[39m\n\u001b[1;32m    197\u001b[0m \u001b[38;5;28;01melse\u001b[39;00m:\n\u001b[1;32m    198\u001b[0m     \u001b[38;5;28;01mraise\u001b[39;00m\n",
      "\u001b[0;31mAnalysisException\u001b[0m: spark_catalog requires a single-part namespace, but got [delta, stage]"
     ]
    }
   ],
   "source": [
    "spark.sql(\" SELECT * FROM  delta.stage.posicao WHERE  linha.c = '208V-10'\")"
   ]
  },
  {
   "cell_type": "code",
   "execution_count": 31,
   "id": "d1244647-bd5d-4787-be00-65108d67bf14",
   "metadata": {},
   "outputs": [],
   "source": [
    "# Carregando arquivos estaticos\n",
    "#linhas\n",
    "df_linhas = spark.read.csv(\"s3a://raw/GTFS/linhas\",header=True)\n",
    "\n",
    "#carrega paradas\n",
    "df_paradas = spark.read.csv(\"s3a://raw/GTFS/paradas\",header=True)\n",
    "\n",
    "#carrega trips\n",
    "df_trips = spark.read.csv(\"s3a://raw/GTFS/trips\",header=True)"
   ]
  },
  {
   "cell_type": "code",
   "execution_count": 32,
   "id": "59377e6f-9dbf-4702-8654-8230bbef3a0b",
   "metadata": {},
   "outputs": [],
   "source": [
    "#df_empresa.show()"
   ]
  },
  {
   "cell_type": "code",
   "execution_count": 7,
   "id": "1823ce90-c852-484b-b592-1b30cca0eb9d",
   "metadata": {},
   "outputs": [],
   "source": [
    "#carrega corredores\n",
    "df_corredor = spark.read.json(\"s3a://raw/olhovivo/corredor\")\n",
    "df_corredor = df_corredor.select(\\\n",
    "                   col('cc').alias('Codigo_Parada') \\\n",
    "                   ,col('nc').alias('Nome_Parada'))\n",
    "df_corredor = df_corredor.dropDuplicates([\"Codigo_Parada\", \"Nome_Parada\"])\n",
    "\n",
    "#carrega empresas\n",
    "df_empresa = spark.read.json(\"s3a://raw/olhovivo/empresa\")\n",
    "df_empresa = df_empresa.select(\\\n",
    "                   explode('e').alias('Empresa') \\\n",
    "                   ,col('hr').alias('Hora'))\n",
    "window_spec = Window.partitionBy(\"Empresa.a\").orderBy(col(\"Hora\").desc())\n",
    "df_empresa_tratado = df_empresa.withColumn(\"row_num\", row_number().over(window_spec)) \\\n",
    "                       .filter(col(\"row_num\") == 1) \\\n",
    "                       .drop(\"row_num\")\n",
    "\n",
    "\n",
    "#carrega posições\n",
    "df_posicao = spark.read.json(\"s3a://raw/olhovivo/posicao\")\n",
    "df_posicao = df_posicao.select(\\\n",
    "                    col('hr').alias('Hora') \\\n",
    "                    ,explode('l').alias('Linha'))\n",
    "                   "
   ]
  },
  {
   "cell_type": "code",
   "execution_count": 9,
   "id": "825c7fbe-9162-4825-9952-2d8ffbf8d477",
   "metadata": {},
   "outputs": [
    {
     "data": {
      "text/plain": [
       "[Row(Hora='09:50', Linha=Row(c='1765-10', cl=1782, lt0='METRÔ TUCURUVI', lt1='JD. CABUÇU', qv=5, sl=1, vs=[Row(a=True, p=22847, px=-46.569042, py=-23.466963, ta='2024-09-20T12:50:00Z'), Row(a=True, p=22845, px=-46.60007, py=-23.480282, ta='2024-09-20T12:50:01Z'), Row(a=True, p=22812, px=-46.569042, py=-23.466963, ta='2024-09-20T12:50:12Z'), Row(a=True, p=22846, px=-46.569042, py=-23.466963, ta='2024-09-20T12:50:14Z'), Row(a=True, p=22344, px=-46.573944, py=-23.459726, ta='2024-09-20T12:49:41Z')])),\n",
       " Row(Hora='09:50', Linha=Row(c='1744-10', cl=33312, lt0='METRÔ SANTANA', lt1='LAUZANE PAULISTA', qv=6, sl=2, vs=[Row(a=True, p=22578, px=-46.64165, py=-23.472612, ta='2024-09-20T12:50:12Z'), Row(a=True, p=22284, px=-46.637234, py=-23.476126, ta='2024-09-20T12:49:38Z'), Row(a=True, p=22738, px=-46.64178, py=-23.472807, ta='2024-09-20T12:50:04Z'), Row(a=True, p=22581, px=-46.638428, py=-23.487814, ta='2024-09-20T12:49:40Z'), Row(a=True, p=22577, px=-46.641495, py=-23.472376, ta='2024-09-20T12:49:33Z'), Row(a=True, p=22580, px=-46.641495, py=-23.472376, ta='2024-09-20T12:50:08Z')])),\n",
       " Row(Hora='09:50', Linha=Row(c='2626-10', cl=376, lt0='TERM. PQ. D. PEDRO II', lt1='JD. NAZARÉ', qv=6, sl=1, vs=[Row(a=True, p=31072, px=-46.46055, py=-23.497837, ta='2024-09-20T12:50:07Z'), Row(a=True, p=31063, px=-46.630474, py=-23.54544, ta='2024-09-20T12:50:07Z'), Row(a=True, p=31075, px=-46.43512, py=-23.495134, ta='2024-09-20T12:50:16Z'), Row(a=True, p=31059, px=-46.591747, py=-23.536964, ta='2024-09-20T12:50:01Z'), Row(a=True, p=31708, px=-46.542313, py=-23.522953, ta='2024-09-20T12:49:52Z'), Row(a=True, p=31714, px=-46.504295, py=-23.510399, ta='2024-09-20T12:49:36Z')])),\n",
       " Row(Hora='09:50', Linha=Row(c='4012-10', cl=2185, lt0='TERM. SÃO MATEUS', lt1='JD. IGUATEMI', qv=8, sl=1, vs=[Row(a=True, p=48675, px=-46.456974, py=-23.6143, ta='2024-09-20T12:50:07Z'), Row(a=True, p=48978, px=-46.440933, py=-23.598099, ta='2024-09-20T12:50:13Z'), Row(a=True, p=48021, px=-46.46902, py=-23.616344, ta='2024-09-20T12:50:04Z'), Row(a=True, p=48195, px=-46.440933, py=-23.598099, ta='2024-09-20T12:50:00Z'), Row(a=True, p=48344, px=-46.443962, py=-23.6045, ta='2024-09-20T12:50:05Z'), Row(a=True, p=48780, px=-46.44094, py=-23.598282, ta='2024-09-20T12:50:11Z'), Row(a=True, p=48040, px=-46.476376, py=-23.613176, ta='2024-09-20T12:50:10Z'), Row(a=True, p=48207, px=-46.440933, py=-23.598099, ta='2024-09-20T12:50:01Z')])),\n",
       " Row(Hora='09:50', Linha=Row(c='6039-10', cl=1217, lt0='STO. AMARO', lt1='VALO VELHO', qv=4, sl=1, vs=[Row(a=True, p=78668, px=-46.800953, py=-23.686033, ta='2024-09-20T12:49:44Z'), Row(a=True, p=78128, px=-46.708538, py=-23.652227, ta='2024-09-20T12:49:34Z'), Row(a=True, p=78358, px=-46.79682, py=-23.681759, ta='2024-09-20T12:50:12Z'), Row(a=True, p=78045, px=-46.717064, py=-23.641039, ta='2024-09-20T12:50:16Z')])),\n",
       " Row(Hora='09:50', Linha=Row(c='6913-10', cl=1465, lt0='TERM. BANDEIRA', lt1='TERM. VARGINHA', qv=14, sl=1, vs=[Row(a=True, p=61645, px=-46.685013, py=-23.623154, ta='2024-09-20T12:50:00Z'), Row(a=True, p=61764, px=-46.714764, py=-23.694004, ta='2024-09-20T12:49:58Z'), Row(a=True, p=61647, px=-46.71619, py=-23.76756, ta='2024-09-20T12:49:39Z'), Row(a=True, p=61653, px=-46.688213, py=-23.62766, ta='2024-09-20T12:49:51Z'), Row(a=True, p=61340, px=-46.69779, py=-23.640957, ta='2024-09-20T12:50:15Z'), Row(a=True, p=61350, px=-46.71619, py=-23.76756, ta='2024-09-20T12:49:36Z'), Row(a=True, p=61337, px=-46.662224, py=-23.570478, ta='2024-09-20T12:50:17Z'), Row(a=True, p=61074, px=-46.684605, py=-23.622559, ta='2024-09-20T12:49:55Z'), Row(a=True, p=61642, px=-46.684605, py=-23.622559, ta='2024-09-20T12:49:59Z'), Row(a=True, p=61665, px=-46.708256, py=-23.747791, ta='2024-09-20T12:50:15Z'), Row(a=True, p=61736, px=-46.67532, py=-23.605312, ta='2024-09-20T12:49:55Z'), Row(a=True, p=61351, px=-46.71619, py=-23.76756, ta='2024-09-20T12:49:48Z'), Row(a=True, p=61330, px=-46.717182, py=-23.767525, ta='2024-09-20T12:49:36Z'), Row(a=True, p=61650, px=-46.698776, py=-23.718542, ta='2024-09-20T12:50:00Z')])),\n",
       " Row(Hora='09:50', Linha=Row(c='7017-10', cl=35270, lt0='TERM. GUARAPIRANGA', lt1='JD. GUARUJÁ', qv=6, sl=2, vs=[Row(a=True, p=78494, px=-46.790733, py=-23.69319, ta='2024-09-20T12:50:12Z'), Row(a=True, p=78017, px=-46.75482, py=-23.675562, ta='2024-09-20T12:49:50Z'), Row(a=True, p=78881, px=-46.735504, py=-23.668242, ta='2024-09-20T12:50:18Z'), Row(a=True, p=78161, px=-46.789654, py=-23.683731, ta='2024-09-20T12:50:19Z'), Row(a=True, p=78843, px=-46.735504, py=-23.668242, ta='2024-09-20T12:49:36Z'), Row(a=True, p=78811, px=-46.786476, py=-23.692238, ta='2024-09-20T12:50:03Z')])),\n",
       " Row(Hora='09:50', Linha=Row(c='2013-10', cl=33667, lt0='CACHOEIRINHA', lt1='COHAB ANTÁRTICA', qv=9, sl=2, vs=[Row(a=True, p=25139, px=-46.67131, py=-23.460632, ta='2024-09-20T12:49:43Z'), Row(a=True, p=25209, px=-46.657078, py=-23.462845, ta='2024-09-20T12:49:38Z'), Row(a=True, p=25622, px=-46.658886, py=-23.454401, ta='2024-09-20T12:49:51Z'), Row(a=True, p=25611, px=-46.658886, py=-23.454401, ta='2024-09-20T12:50:03Z'), Row(a=True, p=25221, px=-46.6644, py=-23.46692, ta='2024-09-20T12:50:02Z'), Row(a=True, p=25632, px=-46.654045, py=-23.464035, ta='2024-09-20T12:50:11Z'), Row(a=True, p=25646, px=-46.658886, py=-23.454401, ta='2024-09-20T12:49:40Z'), Row(a=True, p=25200, px=-46.63665, py=-23.46577, ta='2024-09-20T12:49:35Z'), Row(a=True, p=25208, px=-46.670246, py=-23.472227, ta='2024-09-20T12:49:53Z')])),\n",
       " Row(Hora='09:50', Linha=Row(c='857A-10', cl=34693, lt0='METRÔ STA. CRUZ', lt1='TERM. CAMPO LIMPO', qv=6, sl=2, vs=[Row(a=True, p=77603, px=-46.678844, py=-23.585737, ta='2024-09-20T12:50:18Z'), Row(a=True, p=77608, px=-46.773197, py=-23.631218, ta='2024-09-20T12:49:53Z'), Row(a=True, p=77610, px=-46.76454, py=-23.624508, ta='2024-09-20T12:50:05Z'), Row(a=True, p=77866, px=-46.69649, py=-23.571602, ta='2024-09-20T12:49:38Z'), Row(a=True, p=77601, px=-46.773342, py=-23.631153, ta='2024-09-20T12:49:45Z'), Row(a=True, p=77605, px=-46.650597, py=-23.597712, ta='2024-09-20T12:49:53Z')])),\n",
       " Row(Hora='09:50', Linha=Row(c='2756-10', cl=238, lt0='METRÔ PATRIARCA', lt1='GUAIANASES', qv=4, sl=1, vs=[Row(a=True, p=32866, px=-46.49702, py=-23.528423, ta='2024-09-20T12:44:11Z'), Row(a=True, p=32261, px=-46.39043, py=-23.54446, ta='2024-09-20T12:49:47Z'), Row(a=True, p=32848, px=-46.433674, py=-23.504227, ta='2024-09-20T12:48:15Z'), Row(a=True, p=32267, px=-46.39043, py=-23.54446, ta='2024-09-20T12:49:38Z')])),\n",
       " Row(Hora='09:50', Linha=Row(c='5030-10', cl=34437, lt0='TERM. SACOMÃ', lt1='JD. MARIA ESTELA', qv=2, sl=2, vs=[Row(a=True, p=51097, px=-46.606804, py=-23.637, ta='2024-09-20T12:50:09Z'), Row(a=True, p=51098, px=-46.60276, py=-23.603233, ta='2024-09-20T12:49:53Z')])),\n",
       " Row(Hora='09:50', Linha=Row(c='875C-1', cl=35278, lt0='METRÔ STA. CRUZ', lt1='TERM. LAPA', qv=5, sl=2, vs=[Row(a=True, p=82450, px=-46.68358, py=-23.58241, ta='2024-09-20T12:50:08Z'), Row(a=True, p=82773, px=-46.719658, py=-23.53697, ta='2024-09-20T12:49:43Z'), Row(a=True, p=82630, px=-46.666992, py=-23.597713, ta='2024-09-20T12:49:41Z'), Row(a=True, p=82451, px=-46.702152, py=-23.52668, ta='2024-09-20T12:50:13Z'), Row(a=True, p=82740, px=-46.70033, py=-23.519775, ta='2024-09-20T12:50:08Z')])),\n",
       " Row(Hora='09:50', Linha=Row(c='2705-10', cl=33685, lt0='METRÔ ITAQUERA', lt1='JD. FANGANIELO', qv=7, sl=2, vs=[Row(a=True, p=36028, px=-46.420834, py=-23.54313, ta='2024-09-20T12:49:53Z'), Row(a=True, p=36026, px=-46.39312, py=-23.545614, ta='2024-09-20T12:50:18Z'), Row(a=True, p=36091, px=-46.405285, py=-23.543476, ta='2024-09-20T12:49:59Z'), Row(a=True, p=36093, px=-46.40549, py=-23.539871, ta='2024-09-20T12:50:01Z'), Row(a=True, p=36068, px=-46.46991, py=-23.543388, ta='2024-09-20T12:49:59Z'), Row(a=True, p=36052, px=-46.411163, py=-23.543753, ta='2024-09-20T12:49:39Z'), Row(a=True, p=36130, px=-46.392982, py=-23.546515, ta='2024-09-20T12:50:10Z')])),\n",
       " Row(Hora='09:50', Linha=Row(c='5757-10', cl=34056, lt0='METRÔ CONCEIÇÃO', lt1='CID. JÚLIA', qv=9, sl=2, vs=[Row(a=True, p=68120, px=-46.643993, py=-23.659866, ta='2024-09-20T12:49:49Z'), Row(a=True, p=68456, px=-46.641747, py=-23.646547, ta='2024-09-20T12:49:53Z'), Row(a=True, p=68847, px=-46.640923, py=-23.693558, ta='2024-09-20T12:50:03Z'), Row(a=True, p=68320, px=-46.634995, py=-23.683216, ta='2024-09-20T12:49:55Z'), Row(a=True, p=68725, px=-46.63922, py=-23.6912, ta='2024-09-20T12:49:48Z'), Row(a=True, p=68869, px=-46.63922, py=-23.6912, ta='2024-09-20T12:50:00Z'), Row(a=True, p=68350, px=-46.63798, py=-23.688736, ta='2024-09-20T12:50:11Z'), Row(a=True, p=68388, px=-46.639114, py=-23.691097, ta='2024-09-20T12:50:08Z'), Row(a=True, p=68023, px=-46.64072, py=-23.646433, ta='2024-09-20T12:50:12Z')])),\n",
       " Row(Hora='09:50', Linha=Row(c='6051-10', cl=33911, lt0='TERM. VARGINHA', lt1='JD. ITAJAÍ', qv=1, sl=2, vs=[Row(a=True, p=66434, px=-46.688934, py=-23.762821, ta='2024-09-20T12:49:41Z')])),\n",
       " Row(Hora='09:50', Linha=Row(c='172R-10', cl=33627, lt0='METRÔ BELÉM', lt1='JAÇANÃ', qv=11, sl=2, vs=[Row(a=True, p=26247, px=-46.572983, py=-23.489456, ta='2024-09-20T12:50:05Z'), Row(a=True, p=26467, px=-46.583748, py=-23.465826, ta='2024-09-20T12:49:57Z'), Row(a=True, p=26219, px=-46.58287, py=-23.465616, ta='2024-09-20T12:49:40Z'), Row(a=True, p=26290, px=-46.57044, py=-23.483097, ta='2024-09-20T12:50:09Z'), Row(a=True, p=26313, px=-46.58383, py=-23.46622, ta='2024-09-20T12:50:06Z'), Row(a=True, p=26086, px=-46.600376, py=-23.534801, ta='2024-09-20T12:49:59Z'), Row(a=True, p=26361, px=-46.57264, py=-23.50125, ta='2024-09-20T12:50:04Z'), Row(a=True, p=26275, px=-46.589127, py=-23.517714, ta='2024-09-20T12:49:28Z'), Row(a=True, p=26059, px=-46.58383, py=-23.46622, ta='2024-09-20T12:49:55Z'), Row(a=True, p=26002, px=-46.592, py=-23.541786, ta='2024-09-20T12:49:55Z'), Row(a=True, p=26265, px=-46.57346, py=-23.502787, ta='2024-09-20T12:50:10Z')])),\n",
       " Row(Hora='09:50', Linha=Row(c='118C-10', cl=519, lt0='TERM. AMARAL GURGEL', lt1='JD. PERY ALTO', qv=6, sl=1, vs=[Row(a=True, p=22273, px=-46.671547, py=-23.453468, ta='2024-09-20T12:49:51Z'), Row(a=True, p=22255, px=-46.62566, py=-23.499638, ta='2024-09-20T12:49:49Z'), Row(a=True, p=22267, px=-46.62486, py=-23.500294, ta='2024-09-20T12:50:04Z'), Row(a=True, p=22262, px=-46.648556, py=-23.54017, ta='2024-09-20T12:50:04Z'), Row(a=True, p=22378, px=-46.632206, py=-23.480522, ta='2024-09-20T12:49:32Z'), Row(a=True, p=22270, px=-46.63919, py=-23.528599, ta='2024-09-20T12:50:03Z')])),\n",
       " Row(Hora='09:50', Linha=Row(c='342N-10', cl=33771, lt0='E.T. ITAQUERA', lt1='COHAB PRES. JUSCELINO KUBITSCHECK', qv=6, sl=2, vs=[Row(a=True, p=47672, px=-46.412884, py=-23.54395, ta='2024-09-20T12:49:50Z'), Row(a=True, p=47186, px=-46.394604, py=-23.562952, ta='2024-09-20T12:50:10Z'), Row(a=True, p=47586, px=-46.39643, py=-23.568306, ta='2024-09-20T12:49:43Z'), Row(a=True, p=47791, px=-46.452908, py=-23.534565, ta='2024-09-20T12:49:46Z'), Row(a=True, p=47232, px=-46.394604, py=-23.562952, ta='2024-09-20T12:49:53Z'), Row(a=True, p=47698, px=-46.41654, py=-23.563206, ta='2024-09-20T12:50:03Z')])),\n",
       " Row(Hora='09:50', Linha=Row(c='5105-10', cl=34419, lt0='TERM. MERCADO', lt1='TERM. SACOMÃ', qv=7, sl=2, vs=[Row(a=True, p=52867, px=-46.602207, py=-23.60334, ta='2024-09-20T12:49:41Z'), Row(a=True, p=52866, px=-46.628815, py=-23.547226, ta='2024-09-20T12:49:45Z'), Row(a=True, p=52870, px=-46.602818, py=-23.602995, ta='2024-09-20T12:50:11Z'), Row(a=True, p=52869, px=-46.603416, py=-23.574215, ta='2024-09-20T12:50:14Z'), Row(a=True, p=52813, px=-46.60173, py=-23.603498, ta='2024-09-20T12:49:41Z'), Row(a=True, p=52810, px=-46.602013, py=-23.603422, ta='2024-09-20T12:50:07Z'), Row(a=True, p=52865, px=-46.628815, py=-23.547226, ta='2024-09-20T12:49:12Z')])),\n",
       " Row(Hora='09:50', Linha=Row(c='407F-10', cl=34935, lt0='METRÔ BELÉM', lt1='TERM. SÃO MATEUS', qv=5, sl=2, vs=[Row(a=True, p=31674, px=-46.53474, py=-23.572603, ta='2024-09-20T12:49:39Z'), Row(a=True, p=31657, px=-46.47626, py=-23.612038, ta='2024-09-20T12:49:59Z'), Row(a=True, p=31761, px=-46.58447, py=-23.546349, ta='2024-09-20T12:50:05Z'), Row(a=True, p=31662, px=-46.481636, py=-23.603645, ta='2024-09-20T12:50:02Z'), Row(a=True, p=31615, px=-46.503593, py=-23.57959, ta='2024-09-20T12:50:08Z')]))]"
      ]
     },
     "execution_count": 9,
     "metadata": {},
     "output_type": "execute_result"
    }
   ],
   "source": [
    "df_posicao.head(20)"
   ]
  },
  {
   "cell_type": "code",
   "execution_count": 5,
   "id": "9bf255f3-35eb-4429-8b91-682b37d7bb12",
   "metadata": {},
   "outputs": [],
   "source": [
    "#df_empresa - df_empresa.withColumn(\"e\",explode(df_empresa['e'])) "
   ]
  },
  {
   "cell_type": "code",
   "execution_count": 6,
   "id": "01678cd4-b2d8-47f2-96af-4effff3706ea",
   "metadata": {},
   "outputs": [
    {
     "name": "stdout",
     "output_type": "stream",
     "text": [
      "root\n",
      " |-- Hora: string (nullable = true)\n",
      " |-- Linha: struct (nullable = true)\n",
      " |    |-- c: string (nullable = true)\n",
      " |    |-- cl: long (nullable = true)\n",
      " |    |-- lt0: string (nullable = true)\n",
      " |    |-- lt1: string (nullable = true)\n",
      " |    |-- qv: long (nullable = true)\n",
      " |    |-- sl: long (nullable = true)\n",
      " |    |-- vs: array (nullable = true)\n",
      " |    |    |-- element: struct (containsNull = true)\n",
      " |    |    |    |-- a: boolean (nullable = true)\n",
      " |    |    |    |-- p: long (nullable = true)\n",
      " |    |    |    |-- px: double (nullable = true)\n",
      " |    |    |    |-- py: double (nullable = true)\n",
      " |    |    |    |-- ta: string (nullable = true)\n",
      "\n"
     ]
    }
   ],
   "source": [
    "df_posicao.printSchema()\n",
    "\n",
    "\n",
    "#df_posicao.select(\\\n",
    "#                   explode('e').alias('Empresa') \\\n",
    "#                   ,col('hr').alias('Hora')).printSchema()"
   ]
  },
  {
   "cell_type": "code",
   "execution_count": 25,
   "id": "b7871575-d489-4353-a7f4-45972351c668",
   "metadata": {},
   "outputs": [
    {
     "data": {
      "text/plain": [
       "<delta.tables.DeltaTable at 0x7f4aa4fc5ba0>"
      ]
     },
     "execution_count": 25,
     "metadata": {},
     "output_type": "execute_result"
    }
   ],
   "source": [
    "#Delta Table Corredor\n",
    "DeltaTable.createIfNotExists(spark) \\\n",
    "    .tableName(\"stage.corredor\")\\\n",
    "    .addColumns(df_corredor.schema)\\\n",
    "    .execute()\n",
    "\n",
    "deltaTable = DeltaTable.forName(spark, \"stage.corredor\")\n",
    "#adiconar condicao no whenMatchedUpdateAll para o dado antigo nao sobrepor o dado mais recente\n",
    "deltaTable.alias('destiny') \\\n",
    ".merge(\n",
    "df_corredor.alias('source'),\n",
    "'source.Codigo_Parada = destiny.Codigo_Parada'\n",
    ") \\\n",
    ".whenMatchedUpdateAll() \\\n",
    ".whenNotMatchedInsertAll() \\\n",
    ".execute()"
   ]
  },
  {
   "cell_type": "code",
   "execution_count": 36,
   "id": "99df74cd-72fc-424a-b146-fd0389a58dca",
   "metadata": {},
   "outputs": [],
   "source": [
    "#Delta Table Empresa\n",
    "DeltaTable.createIfNotExists(spark) \\\n",
    "    .tableName(\"stage.empresa\")\\\n",
    "    .addColumns(df_empresa_tratado.schema)\\\n",
    "    .execute()\n",
    "\n",
    "deltaTable = DeltaTable.forName(spark, \"stage.empresa\")\n",
    "#adiconar condicao no whenMatchedUpdateAll para o dado antigo nao sobrepor o dado mais recente\n",
    "deltaTable.alias('destiny') \\\n",
    ".merge(\n",
    "df_empresa_tratado.alias('source'),\n",
    "'source.Empresa.e = destiny.Empresa.e'\n",
    ") \\\n",
    ".whenMatchedUpdateAll() \\\n",
    ".whenNotMatchedInsertAll() \\\n",
    ".execute()"
   ]
  },
  {
   "cell_type": "code",
   "execution_count": 34,
   "id": "3a07f6b1-aa7b-4ea1-850f-8661096b737e",
   "metadata": {},
   "outputs": [
    {
     "name": "stdout",
     "output_type": "stream",
     "text": [
      "+--------------------+-----+\n",
      "|             Empresa| Hora|\n",
      "+--------------------+-----+\n",
      "|{1, [{1, 37, GATO...|21:30|\n",
      "|{2, [{2, 92, SAMB...|21:30|\n",
      "|{3, [{3, 50, VIAÇ...|21:30|\n",
      "|{4, [{4, 80, AMBI...|21:30|\n",
      "|{5, [{5, 51, VIA ...|21:30|\n",
      "|{6, [{6, 53, VIAÇ...|21:30|\n",
      "|{7, [{7, 27, CAMP...|21:30|\n",
      "|{8, [{8, 37, GATO...|21:30|\n",
      "+--------------------+-----+\n",
      "\n"
     ]
    }
   ],
   "source": [
    "#df_empresa_tratado.show()"
   ]
  },
  {
   "cell_type": "code",
   "execution_count": null,
   "id": "5360939c-6b5a-4b2c-9594-5698688270f2",
   "metadata": {},
   "outputs": [],
   "source": [
    "#Delta Table Posicao\n",
    "DeltaTable.createIfNotExists(spark) \\\n",
    "    .tableName(\"stage.posicao\")\\\n",
    "    .addColumns(df_posicao.schema)\\\n",
    "    .execute()\n",
    "\n",
    "#adiconar condicao no whenMatchedUpdateAll para o dado antigo nao sobrepor o dado mais recente\n",
    "deltaTable = DeltaTable.forName(spark, \"stage.posicao\")\n",
    "\n",
    "deltaTable.alias('destiny') \\\n",
    ".merge(\n",
    "df_posicao.alias('source'),\n",
    "'source.Linha.cl = destiny.Linha.cl and source.Linha.sl = destiny.Linha.sl'\n",
    ") \\\n",
    ".whenMatchedUpdateAll() \\\n",
    ".whenNotMatchedInsertAll() \\\n",
    ".execute()"
   ]
  },
  {
   "cell_type": "code",
   "execution_count": null,
   "id": "31e03e58-aaf4-480f-9122-4dd626523238",
   "metadata": {},
   "outputs": [],
   "source": [
    "#Delta Table Linhas\n",
    "DeltaTable.createIfNotExists(spark) \\\n",
    "    .tableName(\"stage.linhas\")\\\n",
    "    .addColumns(df_linhas.schema)\\\n",
    "    .execute()\n",
    "\n",
    "\n",
    "#adiconar condicao no whenMatchedUpdateAll para o dado antigo nao sobrepor o dado mais recente\n",
    "deltaTable = DeltaTable.forName(spark, \"stage.linhas\")\n",
    "\n",
    "deltaTable.alias('destiny') \\\n",
    ".merge(\n",
    "df_linhas.alias('source'),\n",
    "'source.route_id = destiny.route_id'\n",
    ") \\\n",
    ".whenMatchedUpdateAll() \\\n",
    ".whenNotMatchedInsertAll() \\\n",
    ".execute()"
   ]
  },
  {
   "cell_type": "code",
   "execution_count": null,
   "id": "2bbd6709-c235-487c-966d-b24be7e18e22",
   "metadata": {},
   "outputs": [],
   "source": [
    "#Delta Table Paradas\n",
    "DeltaTable.createIfNotExists(spark) \\\n",
    "    .tableName(\"stage.paradas\")\\\n",
    "    .addColumns(df_paradas.schema)\\\n",
    "    .execute()\n",
    "\n",
    "#adiconar condicao no whenMatchedUpdateAll para o dado antigo nao sobrepor o dado mais recente\n",
    "deltaTable = DeltaTable.forName(spark, \"stage.paradas\")\n",
    "\n",
    "deltaTable.alias('destiny') \\\n",
    ".merge(\n",
    "df_paradas.alias('source'),\n",
    "'source.stop_id = destiny.stop_id'\n",
    ") \\\n",
    ".whenMatchedUpdateAll() \\\n",
    ".whenNotMatchedInsertAll() \\\n",
    ".execute()"
   ]
  },
  {
   "cell_type": "code",
   "execution_count": null,
   "id": "2f52a6a2-c804-4900-a6b2-ddf8efe96728",
   "metadata": {},
   "outputs": [],
   "source": [
    "#Delta Table Trips\n",
    "DeltaTable.createIfNotExists(spark) \\\n",
    "    .tableName(\"stage.trips\")\\\n",
    "    .addColumns(df_trips.schema)\\\n",
    "    .execute()\n",
    "\n",
    "#adiconar condicao no whenMatchedUpdateAll para o dado antigo nao sobrepor o dado mais recente\n",
    "deltaTable = DeltaTable.forName(spark, \"stage.trips\")\n",
    "\n",
    "deltaTable.alias('destiny') \\\n",
    ".merge(\n",
    "df_trips.alias('source'),\n",
    "'source.route_id = destiny.route_id and source.direction_id = destiny.direction_id'\n",
    ") \\\n",
    ".whenMatchedUpdateAll() \\\n",
    ".whenNotMatchedInsertAll() \\\n",
    ".execute()"
   ]
  },
  {
   "cell_type": "code",
   "execution_count": 10,
   "id": "ec43ba27-4130-431f-993f-05e778a9a0f7",
   "metadata": {},
   "outputs": [],
   "source": [
    " #adiconar condicao no whenMatchedUpdateAll para o dado antigo nao sobrepor o dado mais recente\n",
    "\n",
    "#Criando tabelas caso não existam\n",
    "# try:\n",
    "#     df_corredor.write.format(\"delta\").saveAsTable(\"stage.corredor\")\n",
    "# except:\n",
    "#     pass"
   ]
  },
  {
   "cell_type": "code",
   "execution_count": 16,
   "id": "392b03a0-d361-4026-ada7-b6f1c92a0447",
   "metadata": {},
   "outputs": [],
   "source": [
    "# try:\n",
    "#     df_empresa.write.format(\"delta\").saveAsTable(\"stage.empresa\")\n",
    "# except:\n",
    "#     pass"
   ]
  },
  {
   "cell_type": "code",
   "execution_count": 11,
   "id": "765df09f-de18-4376-9042-73dc72f5200f",
   "metadata": {},
   "outputs": [
    {
     "name": "stdout",
     "output_type": "stream",
     "text": [
      "root\n",
      " |-- Empresa: struct (nullable = true)\n",
      " |    |-- a: long (nullable = true)\n",
      " |    |-- e: array (nullable = true)\n",
      " |    |    |-- element: struct (containsNull = true)\n",
      " |    |    |    |-- a: long (nullable = true)\n",
      " |    |    |    |-- c: long (nullable = true)\n",
      " |    |    |    |-- n: string (nullable = true)\n",
      " |-- Hora: string (nullable = true)\n",
      "\n"
     ]
    }
   ],
   "source": [
    "# df_empresa.printSchema()"
   ]
  },
  {
   "cell_type": "code",
   "execution_count": 5,
   "id": "7189cd13-108e-4b59-893f-b6dcf7a6c41f",
   "metadata": {},
   "outputs": [],
   "source": [
    "# try:\n",
    "#     df_posicao.write.format(\"delta\").saveAsTable(\"stage.posicao\")\n",
    "# except:\n",
    "#     pass"
   ]
  },
  {
   "cell_type": "code",
   "execution_count": null,
   "id": "33220cf9-fbcc-4a3c-b126-ec28f19955f8",
   "metadata": {},
   "outputs": [],
   "source": [
    "# window_spec = Window.partitionBy(\"Linha.c\").orderBy(col(\"Hora\").desc())\n",
    "# df_empresa_tratado = df_empresa.withColumn(\"row_num\", row_number().over(window_spec)) \\\n",
    "#                        .filter(col(\"row_num\") == 1) \\\n",
    "#                        .drop(\"row_num\")"
   ]
  },
  {
   "cell_type": "code",
   "execution_count": 9,
   "id": "97d24295-7df9-4040-b832-1af882219e1c",
   "metadata": {},
   "outputs": [
    {
     "data": {
      "text/html": [
       "<table border='1'>\n",
       "<tr><th>Hora</th><th>Linha</th></tr>\n",
       "<tr><td>20:42</td><td>{7060-10, 1889, T...</td></tr>\n",
       "<tr><td>20:42</td><td>{3053-10, 973, ME...</td></tr>\n",
       "<tr><td>20:42</td><td>{6041-10, 1218, S...</td></tr>\n",
       "<tr><td>20:42</td><td>{9191-10, 33578, ...</td></tr>\n",
       "<tr><td>20:42</td><td>{9009-10, 33645, ...</td></tr>\n",
       "<tr><td>20:42</td><td>{3785-10, 33831, ...</td></tr>\n",
       "<tr><td>20:42</td><td>{6450-10, 32827, ...</td></tr>\n",
       "<tr><td>20:42</td><td>{875H-10, 1340, M...</td></tr>\n",
       "<tr><td>20:42</td><td>{2727-10, 942, CO...</td></tr>\n",
       "<tr><td>20:42</td><td>{3736-10, 33804, ...</td></tr>\n",
       "<tr><td>20:42</td><td>{877T-10, 34149, ...</td></tr>\n",
       "<tr><td>20:42</td><td>{2582-10, 33142, ...</td></tr>\n",
       "<tr><td>20:42</td><td>{5391-10, 32939, ...</td></tr>\n",
       "<tr><td>20:42</td><td>{3134-10, 993, ME...</td></tr>\n",
       "<tr><td>20:42</td><td>{5290-10, 33365, ...</td></tr>\n",
       "<tr><td>20:42</td><td>{3459-23, 33172, ...</td></tr>\n",
       "<tr><td>20:42</td><td>{5145-10, 34409, ...</td></tr>\n",
       "<tr><td>20:42</td><td>{707K-10, 35271, ...</td></tr>\n",
       "<tr><td>20:42</td><td>{4032-10, 33870, ...</td></tr>\n",
       "<tr><td>20:42</td><td>{4732-31, 2127, M...</td></tr>\n",
       "</table>\n",
       "only showing top 20 rows\n"
      ],
      "text/plain": [
       "+-----+--------------------+\n",
       "| Hora|               Linha|\n",
       "+-----+--------------------+\n",
       "|20:42|{7060-10, 1889, T...|\n",
       "|20:42|{3053-10, 973, ME...|\n",
       "|20:42|{6041-10, 1218, S...|\n",
       "|20:42|{9191-10, 33578, ...|\n",
       "|20:42|{9009-10, 33645, ...|\n",
       "|20:42|{3785-10, 33831, ...|\n",
       "|20:42|{6450-10, 32827, ...|\n",
       "|20:42|{875H-10, 1340, M...|\n",
       "|20:42|{2727-10, 942, CO...|\n",
       "|20:42|{3736-10, 33804, ...|\n",
       "|20:42|{877T-10, 34149, ...|\n",
       "|20:42|{2582-10, 33142, ...|\n",
       "|20:42|{5391-10, 32939, ...|\n",
       "|20:42|{3134-10, 993, ME...|\n",
       "|20:42|{5290-10, 33365, ...|\n",
       "|20:42|{3459-23, 33172, ...|\n",
       "|20:42|{5145-10, 34409, ...|\n",
       "|20:42|{707K-10, 35271, ...|\n",
       "|20:42|{4032-10, 33870, ...|\n",
       "|20:42|{4732-31, 2127, M...|\n",
       "+-----+--------------------+\n",
       "only showing top 20 rows"
      ]
     },
     "execution_count": 9,
     "metadata": {},
     "output_type": "execute_result"
    }
   ],
   "source": [
    "#df_posicao.printSchema()\n",
    "#df_posicao.show(truncate=False)"
   ]
  },
  {
   "cell_type": "code",
   "execution_count": 6,
   "id": "a9dbe246-ed6e-4e04-9d17-214942f65560",
   "metadata": {},
   "outputs": [],
   "source": []
  },
  {
   "cell_type": "code",
   "execution_count": 12,
   "id": "60f8d0ba-504c-4cd4-83ae-9ca0c51db779",
   "metadata": {},
   "outputs": [],
   "source": [
    "# try:\n",
    "#     df_linhas.write.format(\"delta\").saveAsTable(\"stage.linhas\")\n",
    "# except:\n",
    "#     pass"
   ]
  },
  {
   "cell_type": "code",
   "execution_count": 11,
   "id": "2baef61a-e62d-4672-af31-ba6d5f654b1c",
   "metadata": {},
   "outputs": [
    {
     "name": "stdout",
     "output_type": "stream",
     "text": [
      "+--------+---------+----------------+--------------------+----------+-----------+----------------+\n",
      "|route_id|agency_id|route_short_name|     route_long_name|route_type|route_color|route_text_color|\n",
      "+--------+---------+----------------+--------------------+----------+-----------+----------------+\n",
      "| 1012-10|        1|         1012-10|Term. Jd. Britani...|         3|     509E2F|          FFFFFF|\n",
      "| 1012-21|        1|         1012-21|Term. Jd. Britâni...|         3|     509E2F|          FFFFFF|\n",
      "| 1015-10|        1|         1015-10|Term. Jd. Britâni...|         3|     509E2F|          FFFFFF|\n",
      "| 1016-10|        1|         1016-10|Cem. Do Horto - S...|         3|     002F6C|          FFFFFF|\n",
      "| 1017-10|        1|         1017-10|Perus - Conexão V...|         3|     509E2F|          FFFFFF|\n",
      "| 1018-10|        1|         1018-10|Vl. Rosa - Metrô ...|         3|     002F6C|          FFFFFF|\n",
      "| 1019-10|        1|         1019-10|Sol Nascente - Te...|         3|     509E2F|          FFFFFF|\n",
      "| 1020-10|        1|         1020-10|Perus - Conexão V...|         3|     509E2F|          FFFFFF|\n",
      "| 1021-10|        1|         1021-10|Cohab Brasilândia...|         3|     509E2F|          FFFFFF|\n",
      "| 1023-10|        1|         1023-10|Vl. Pirituba - Cp...|         3|     509E2F|          FFFFFF|\n",
      "| 1024-10|        1|         1024-10|Jd. Carombé - Con...|         3|     509E2F|          FFFFFF|\n",
      "| 1025-10|        1|         1025-10|Jd. Carombé - Con...|         3|     509E2F|          FFFFFF|\n",
      "| 1026-10|        1|         1026-10|Vl. Iara - Conexã...|         3|     509E2F|          FFFFFF|\n",
      "| 1034-10|        1|         1034-10|Vl. Iara - Conexã...|         3|     509E2F|          FFFFFF|\n",
      "| 1036-10|        1|         1036-10|Cohab Brasilândia...|         3|     509E2F|          FFFFFF|\n",
      "| 106A-10|        1|         106A-10|Metrô Santana - I...|         3|     002F6C|          FFFFFF|\n",
      "| 107T-10|        1|         107T-10|Metrô Tucuruvi - ...|         3|     002F6C|          FFFFFF|\n",
      "| 1156-10|        1|         1156-10|Vl. Sabrina - Pça...|         3|     002F6C|          FFFFFF|\n",
      "| 1177-10|        1|         1177-10|Term. A. E. Carva...|         3|     FFD100|          000000|\n",
      "| 1177-31|        1|         1177-31|Term. A. E. Carva...|         3|     FFD100|          000000|\n",
      "+--------+---------+----------------+--------------------+----------+-----------+----------------+\n",
      "only showing top 20 rows\n",
      "\n"
     ]
    }
   ],
   "source": [
    "#df_linhas.show()"
   ]
  },
  {
   "cell_type": "code",
   "execution_count": 13,
   "id": "db07a5d1-b06f-4e82-9ef8-f16305422494",
   "metadata": {},
   "outputs": [],
   "source": []
  },
  {
   "cell_type": "code",
   "execution_count": 15,
   "id": "c54748f8-e0fc-4e26-b6d9-4839b46bcf2a",
   "metadata": {},
   "outputs": [],
   "source": [
    "# try:\n",
    "#     df_paradas.write.format(\"delta\").saveAsTable(\"stage.paradas\")\n",
    "# except:\n",
    "#     pass"
   ]
  },
  {
   "cell_type": "code",
   "execution_count": 14,
   "id": "00f95f3a-f7d2-4280-855f-a3811fce6629",
   "metadata": {},
   "outputs": [
    {
     "name": "stdout",
     "output_type": "stream",
     "text": [
      "+-------+----------------+---------+----------+----------+\n",
      "|stop_id|       stop_name|stop_desc|  stop_lat|  stop_lon|\n",
      "+-------+----------------+---------+----------+----------+\n",
      "|  18848|        Clínicas|     null|-23.554022|-46.671108|\n",
      "|  18849|   Vila Madalena|     null|-23.546498|-46.691141|\n",
      "|  18850|      Consolação|     null|-23.558094|-46.660205|\n",
      "|  18851|       Conceição|     null|-23.635039|-46.641239|\n",
      "|  18852|       Jabaquara|     null|-23.646033|-46.641028|\n",
      "|  18853|       São Judas|     null|-23.625882|-46.640936|\n",
      "|  18854|           Saúde|     null|-23.618245|-46.639139|\n",
      "|  18855| Praça Da Árvore|     null|-23.610583|-46.637918|\n",
      "|  18856|      Santa Cruz|     null|-23.598541|-46.636638|\n",
      "|  18857|    Vila Mariana|     null|-23.589359|-46.634677|\n",
      "|  18858|      Brigadeiro|     null|-23.567615|-46.649027|\n",
      "|  18859|    Trianon-masp|     null|-23.563570|-46.653893|\n",
      "|  18860|        Ana Rosa|     null|-23.581203|-46.638489|\n",
      "|  18861|         Paraíso|     null|-23.575400|-46.640700|\n",
      "|  18862|       Vergueiro|     null|-23.568521|-46.639904|\n",
      "|  18863|     São Joaquim|     null|-23.561435|-46.638534|\n",
      "|  18864|Marechal Deodoro|     null|-23.533163|-46.657264|\n",
      "|  18865|   Santa Cecília|     null|-23.538095|-46.649009|\n",
      "|  18866|       República|     null|-23.544215|-46.642461|\n",
      "|  18867|      Anhangabaú|     null|-23.547800|-46.639200|\n",
      "+-------+----------------+---------+----------+----------+\n",
      "only showing top 20 rows\n",
      "\n"
     ]
    }
   ],
   "source": [
    "#df_paradas.show()"
   ]
  },
  {
   "cell_type": "code",
   "execution_count": 16,
   "id": "af96e923-bdd7-491a-af7a-70bc71f3e077",
   "metadata": {},
   "outputs": [],
   "source": []
  },
  {
   "cell_type": "code",
   "execution_count": 18,
   "id": "5697bc5a-952c-4e2e-bf42-f6116899786b",
   "metadata": {},
   "outputs": [],
   "source": [
    "# try:\n",
    "#     df_trips.write.format(\"delta\").saveAsTable(\"stage.trips\")\n",
    "# except:\n",
    "#     pass"
   ]
  },
  {
   "cell_type": "code",
   "execution_count": 17,
   "id": "a17d1c5a-a22f-4c6d-8ebb-c4b6611fac7b",
   "metadata": {},
   "outputs": [
    {
     "name": "stdout",
     "output_type": "stream",
     "text": [
      "+--------+----------+---------+--------------------+------------+--------+\n",
      "|route_id|service_id|  trip_id|       trip_headsign|direction_id|shape_id|\n",
      "+--------+----------+---------+--------------------+------------+--------+\n",
      "| 1012-10|       USD|1012-10-0|      Jd. Monte Belo|           0|   81072|\n",
      "| 1012-10|       USD|1012-10-1|  Term. Jd. Britania|           1|   81073|\n",
      "| 1012-21|       U__|1012-21-0|         Jd. Rosinha|           0|   81195|\n",
      "| 1015-10|       USD|1015-10-0|Chác. Maria Trindade|           0|   81148|\n",
      "| 1016-10|       USD|1016-10-0|  Shop. Center Norte|           0|   72283|\n",
      "| 1016-10|       USD|1016-10-1|       Cem. Do Horto|           1|   82172|\n",
      "| 1017-10|       USD|1017-10-0|   Conexão Vl. Iório|           0|   72355|\n",
      "| 1017-10|       USD|1017-10-1|               Perus|           1|   72356|\n",
      "| 1018-10|       USD|1018-10-0|       Metrô Santana|           0|   71029|\n",
      "| 1018-10|       USD|1018-10-1|            Vl. Rosa|           1|   71030|\n",
      "| 1019-10|       USD|1019-10-0|      Term. Pirituba|           0|   81649|\n",
      "| 1019-10|       USD|1019-10-1|        Sol Nascente|           1|   81650|\n",
      "| 1020-10|       USD|1020-10-0|  Conexão Vl. Iório |           0|   69454|\n",
      "| 1020-10|       USD|1020-10-1|               Perus|           1|   81663|\n",
      "| 1021-10|       US_|1021-10-0|      Term. Pirituba|           0|   58785|\n",
      "| 1021-10|       US_|1021-10-1|   Cohab Brasilândia|           1|   58786|\n",
      "| 1023-10|       USD|1023-10-0|       Cptm Pirituba|           0|   72879|\n",
      "| 1024-10|       USD|1024-10-0|Conexão Petrônio ...|           0|   58765|\n",
      "| 1024-10|       USD|1024-10-1|         Jd. Carombé|           1|   79504|\n",
      "| 1025-10|       USD|1025-10-0|Conexão Petrônio ...|           0|   58767|\n",
      "+--------+----------+---------+--------------------+------------+--------+\n",
      "only showing top 20 rows\n",
      "\n"
     ]
    }
   ],
   "source": [
    "#df_trips.show(20)"
   ]
  },
  {
   "cell_type": "code",
   "execution_count": 38,
   "id": "a046dd69-ff7d-4f39-82d4-c99473e751a3",
   "metadata": {},
   "outputs": [
    {
     "name": "stdout",
     "output_type": "stream",
     "text": [
      "+-------------+-------------------+\n",
      "|Codigo_Parada|        Nome_Parada|\n",
      "+-------------+-------------------+\n",
      "|            9|Expresso Tiradentes|\n",
      "|            3|    Inajar de Souza|\n",
      "|           10|     Paes de Barros|\n",
      "|            8|        Campo Limpo|\n",
      "|            7|        Parelheiros|\n",
      "|            2|        Santo Amaro|\n",
      "|            1|           Pirituba|\n",
      "+-------------+-------------------+\n",
      "\n"
     ]
    }
   ],
   "source": [
    "# df_teste.show()"
   ]
  },
  {
   "cell_type": "code",
   "execution_count": 8,
   "id": "d8735649-9cd4-49a2-b093-86aa3fa46035",
   "metadata": {},
   "outputs": [
    {
     "name": "stdout",
     "output_type": "stream",
     "text": [
      "+---------+\n",
      "|namespace|\n",
      "+---------+\n",
      "| business|\n",
      "|  default|\n",
      "|    stage|\n",
      "+---------+\n",
      "\n"
     ]
    }
   ],
   "source": [
    "# spark.sql('show databases').show()"
   ]
  },
  {
   "cell_type": "code",
   "execution_count": 28,
   "id": "4c02e32b-d546-4f04-bb64-e2c0349e2596",
   "metadata": {},
   "outputs": [
    {
     "name": "stdout",
     "output_type": "stream",
     "text": [
      "+---------+---------+-----------+\n",
      "|namespace|tableName|isTemporary|\n",
      "+---------+---------+-----------+\n",
      "|    stage| corredor|      false|\n",
      "|    stage|  empresa|      false|\n",
      "|    stage|  posicao|      false|\n",
      "|    stage|   linhas|      false|\n",
      "|    stage|  paradas|      false|\n",
      "|    stage|    trips|      false|\n",
      "+---------+---------+-----------+\n",
      "\n"
     ]
    }
   ],
   "source": [
    "# spark.sql(\"show tables from stage\").show()"
   ]
  },
  {
   "cell_type": "code",
   "execution_count": 35,
   "id": "a1eee1b8-8986-416f-8218-11b3285841b0",
   "metadata": {},
   "outputs": [
    {
     "name": "stdout",
     "output_type": "stream",
     "text": [
      "++\n",
      "||\n",
      "++\n",
      "++\n",
      "\n"
     ]
    }
   ],
   "source": [
    "#spark.sql(\"describe table stage.corredor_teste\").show()\n",
    "#spark.sql(\"drop table stage.empresa\").show()"
   ]
  },
  {
   "cell_type": "code",
   "execution_count": 44,
   "id": "e09c37eb-2c9b-452b-a587-b11ec5bae3de",
   "metadata": {},
   "outputs": [
    {
     "data": {
      "text/html": [
       "<table border='1'>\n",
       "<tr><th></th></tr>\n",
       "</table>\n"
      ],
      "text/plain": [
       "++\n",
       "||\n",
       "++\n",
       "++"
      ]
     },
     "execution_count": 44,
     "metadata": {},
     "output_type": "execute_result"
    }
   ],
   "source": []
  },
  {
   "cell_type": "code",
   "execution_count": 22,
   "id": "53595aed-61e1-40cf-9272-60a5adc95058",
   "metadata": {},
   "outputs": [
    {
     "data": {
      "text/plain": [
       "<delta.tables.DeltaTable at 0x7f4aa4f2b940>"
      ]
     },
     "execution_count": 22,
     "metadata": {},
     "output_type": "execute_result"
    }
   ],
   "source": [
    "# DeltaTable.create(spark) \\\n",
    "#     .tableName(\"stage.teste_caio\")\\\n",
    "#     .addColumns(df_corredor.schema)\\\n",
    "#     .execute()\n"
   ]
  },
  {
   "cell_type": "code",
   "execution_count": 23,
   "id": "98718bc8-df3b-40ba-870c-1e9af817a396",
   "metadata": {},
   "outputs": [],
   "source": [
    "# deltaTable = DeltaTable.forName(spark, \"stage.teste_caio\")\n",
    "\n",
    "# deltaTable.alias('destiny') \\\n",
    "# .merge(\n",
    "# df_corredor.alias('source'),\n",
    "# 'source.Codigo_Parada = destiny.Codigo_Parada'\n",
    "# ) \\\n",
    "# .whenMatchedUpdateAll() \\\n",
    "# .whenNotMatchedInsertAll() \\\n",
    "# .execute()"
   ]
  },
  {
   "cell_type": "code",
   "execution_count": null,
   "id": "97340803-017b-48d5-a1e8-b6117594fee2",
   "metadata": {},
   "outputs": [],
   "source": []
  }
 ],
 "metadata": {
  "kernelspec": {
   "display_name": "Python 3 (ipykernel)",
   "language": "python",
   "name": "python3"
  },
  "language_info": {
   "codemirror_mode": {
    "name": "ipython",
    "version": 3
   },
   "file_extension": ".py",
   "mimetype": "text/x-python",
   "name": "python",
   "nbconvert_exporter": "python",
   "pygments_lexer": "ipython3",
   "version": "3.10.8"
  }
 },
 "nbformat": 4,
 "nbformat_minor": 5
}
