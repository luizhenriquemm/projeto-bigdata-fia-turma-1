{
 "cells": [
  {
   "cell_type": "code",
   "execution_count": 8,
   "id": "04364978-ae4a-45b4-85db-0e0e14daf649",
   "metadata": {},
   "outputs": [],
   "source": [
    "import requests\n",
    "from pyspark.sql import SparkSession, Row, Window\n",
    "from pyspark.sql.functions import *\n",
    "from pyspark.sql.types import *\n",
    "import time\n",
    "import json\n",
    "from delta import DeltaTable\n",
    "\n",
    "spark = (SparkSession.builder\n",
    "             .appName('lab') # Name the app\n",
    "             .config(\"hive.metastore.uris\", \"thrift://metastore:9083\") # Set external Hive Metastore\n",
    "             .config(\"hive.metastore.schema.verification\", \"false\") # Prevent some errors\n",
    "             .config(\"spark.sql.repl.eagerEval.enabled\", True)\n",
    "             .config(\"spark.sql.extensions\", \"io.delta.sql.DeltaSparkSessionExtension\")\n",
    "             .config(\"spark.sql.catalog.spark_catalog\", \"org.apache.spark.sql.delta.catalog.DeltaCatalog\")\n",
    "             .enableHiveSupport()\n",
    "             .getOrCreate())"
   ]
  },
  {
   "cell_type": "code",
   "execution_count": 2,
   "id": "9080ae50-3b17-4f3c-9d57-7d327429d8fa",
   "metadata": {},
   "outputs": [
    {
     "name": "stdout",
     "output_type": "stream",
     "text": [
      "+---------+\n",
      "|namespace|\n",
      "+---------+\n",
      "| business|\n",
      "|  default|\n",
      "|    stage|\n",
      "+---------+\n",
      "\n"
     ]
    }
   ],
   "source": [
    "spark.sql(\"show databases\").show()"
   ]
  },
  {
   "cell_type": "code",
   "execution_count": 3,
   "id": "7e79087a-e31a-41c1-91ed-89e7e4a50412",
   "metadata": {},
   "outputs": [
    {
     "name": "stdout",
     "output_type": "stream",
     "text": [
      "+---------+---------+-----------+\n",
      "|namespace|tableName|isTemporary|\n",
      "+---------+---------+-----------+\n",
      "|    stage| corredor|      false|\n",
      "|    stage|  posicao|      false|\n",
      "|    stage|   linhas|      false|\n",
      "|    stage|  paradas|      false|\n",
      "|    stage|    trips|      false|\n",
      "|    stage|  empresa|      false|\n",
      "+---------+---------+-----------+\n",
      "\n"
     ]
    }
   ],
   "source": [
    "spark.sql(\"show tables from stage\").show()"
   ]
  },
  {
   "cell_type": "code",
   "execution_count": 4,
   "id": "e7481679-eaa6-440f-b4e4-33b7bf59a915",
   "metadata": {},
   "outputs": [],
   "source": [
    "df_previsao = spark.read.json(f\"s3a://raw/olhovivo/previsao/dt=2024-09-23/\")"
   ]
  },
  {
   "cell_type": "code",
   "execution_count": 6,
   "id": "1bd35b20-0959-4d01-a3d7-910c34f436e1",
   "metadata": {},
   "outputs": [
    {
     "name": "stdout",
     "output_type": "stream",
     "text": [
      "+-----+--------------------+-------+\n",
      "|   hr|                   p|stop_id|\n",
      "+-----+--------------------+-------+\n",
      "|19:08|                null|  19073|\n",
      "|19:08|                null| 104763|\n",
      "|19:08|{105268, [{3134-1...| 105268|\n",
      "|19:08|{105368, [{407Y-1...| 105368|\n",
      "|19:08|{105388, [{4729-1...| 105388|\n",
      "|19:08|{105424, [{4025-1...| 105424|\n",
      "|19:08|{105431, [{4726-1...| 105431|\n",
      "|19:08|{105432, [{4726-1...| 105432|\n",
      "|19:08|{109574, [{4726-1...| 109574|\n",
      "|19:08|{109576, [{5144-1...| 109576|\n",
      "|19:08|{109594, [{4025-1...| 109594|\n",
      "|19:08|{109595, [{4726-1...| 109595|\n",
      "|19:08|{109731, [{4025-1...| 109731|\n",
      "|19:08|{109733, [{2100-1...| 109733|\n",
      "|19:08|{109738, [{4726-1...| 109738|\n",
      "|19:08|{109739, [{4726-1...| 109739|\n",
      "|19:08|                null| 109740|\n",
      "|19:08|{109741, [{4726-1...| 109741|\n",
      "|19:08|{109751, [{4025-1...| 109751|\n",
      "|19:08|                null| 109754|\n",
      "+-----+--------------------+-------+\n",
      "only showing top 20 rows\n",
      "\n"
     ]
    }
   ],
   "source": [
    "df_previsao.show()"
   ]
  },
  {
   "cell_type": "code",
   "execution_count": null,
   "id": "12ff0300-0f40-4a2b-ad57-f6e75d005f29",
   "metadata": {},
   "outputs": [],
   "source": [
    "df_previsao = spark.read.json(f\"s3a://raw/olhovivo/previsao/dt=2024-09-23/\")\n",
    "\n",
    "window_spec = Window.partitionBy(\"stop_id\").orderBy(col(\"hr\").desc())\n",
    "df_previsao_tratado = df_previsao.withColumn(\"row_num\", row_number().over(window_spec)) \\\n",
    "                       .filter(col(\"row_num\") == 1) \\\n",
    "                       .drop(\"row_num\")\n",
    "\n",
    "DeltaTable.createIfNotExists(spark) \\\n",
    "    .tableName(\"stage.previsao\")\\\n",
    "    .addColumns(df_previsao_tratado.schema)\\\n",
    "    .execute()\n",
    "\n",
    "deltaTable = DeltaTable.forName(spark, \"stage.previsao\")\n",
    "\n",
    "deltaTable.alias('destiny') \\\n",
    "    .merge(\n",
    "        df_previsao_tratado.alias('source'),\n",
    "        'source.stop_id = destiny.stop_id'\n",
    "    ) \\\n",
    "    .whenMatchedUpdateAll() \\\n",
    "    .whenNotMatchedInsertAll() \\\n",
    "    .execute()"
   ]
  }
 ],
 "metadata": {
  "kernelspec": {
   "display_name": "Python 3 (ipykernel)",
   "language": "python",
   "name": "python3"
  },
  "language_info": {
   "codemirror_mode": {
    "name": "ipython",
    "version": 3
   },
   "file_extension": ".py",
   "mimetype": "text/x-python",
   "name": "python",
   "nbconvert_exporter": "python",
   "pygments_lexer": "ipython3",
   "version": "3.10.8"
  }
 },
 "nbformat": 4,
 "nbformat_minor": 5
}
