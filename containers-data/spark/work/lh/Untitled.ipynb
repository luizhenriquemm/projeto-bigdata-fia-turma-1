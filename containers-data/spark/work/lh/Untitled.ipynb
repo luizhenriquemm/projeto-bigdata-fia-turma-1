{
 "cells": [
  {
   "cell_type": "code",
   "execution_count": 1,
   "id": "cb88df61-070d-41d8-b988-ffb42899ebb1",
   "metadata": {},
   "outputs": [],
   "source": [
    "import requests\n",
    "from pyspark.sql import SparkSession, Row\n",
    "from pyspark.sql.functions import *\n",
    "from pyspark.sql.types import *\n",
    "import time\n",
    "import json\n",
    "from delta import DeltaTable\n",
    "\n",
    "spark = (SparkSession.builder\n",
    "             .appName('lab') # Name the app\n",
    "             .config(\"hive.metastore.uris\", \"thrift://metastore:9083\") # Set external Hive Metastore\n",
    "             .config(\"hive.metastore.schema.verification\", \"false\") # Prevent some errors\n",
    "             .config(\"spark.sql.repl.eagerEval.enabled\", True)\n",
    "             .config(\"spark.sql.extensions\", \"io.delta.sql.DeltaSparkSessionExtension\")\n",
    "             .config(\"spark.sql.catalog.spark_catalog\", \"org.apache.spark.sql.delta.catalog.DeltaCatalog\")\n",
    "             .enableHiveSupport()\n",
    "             .getOrCreate())"
   ]
  },
  {
   "cell_type": "code",
   "execution_count": 4,
   "id": "4db23cb1-0e88-46f0-a79b-a8a9270dff1c",
   "metadata": {},
   "outputs": [],
   "source": [
    "def autenticar():\n",
    "    # endpoint da API para autenticar\n",
    "    api_url = \"https://api.olhovivo.sptrans.com.br/v2.1/Login/Autenticar?token=fa1ae741481d20625673b2020fdd07bcfdcf5d60f27d226a069812a94de3edd0\"\n",
    "\n",
    "    # Inicialize uma sessão do requests\n",
    "    session = requests.Session()\n",
    "\n",
    "    try:\n",
    "        # Faz a requisição post para a API usando a sessão\n",
    "        response = session.post(api_url)\n",
    "\n",
    "        # Verifique se a requisição foi bem-sucedida (código de status 200)\n",
    "        if response.status_code == 200:\n",
    "            # Extraia o conteúdo JSON (ou texto) da resposta\n",
    "            data = response.json()  # ou response.text se for texto\n",
    "          \n",
    "            return session                \n",
    "        else:\n",
    "            print(f\"Falha ao acessar a API. Status Code: {session.post(api_url).status_code}\")      \n",
    "            \n",
    "    finally:\n",
    "        # Feche a sessão após o uso\n",
    "        session.close()\n",
    "\n",
    "def callAPIGet(api_url, session):\n",
    "    try:    \n",
    "        # Verifique se a requisição foi bem-sucedida (código de status 200)\n",
    "        if session.get(api_url).status_code == 200:\n",
    "            # Extraia o conteúdo JSON (ou texto) da resposta\n",
    "            data = session.get(api_url).json()  # ou response.text se for texto\n",
    "            \n",
    "            if isinstance(data, list):\n",
    "                return data\n",
    "            elif isinstance(data, dict):\n",
    "                return [data]\n",
    "            \n",
    "            return None                  \n",
    "        else:\n",
    "            print(f\"Falha ao acessar a API. Status Code: {session.post(api_url).status_code}\")      \n",
    "            \n",
    "    finally:\n",
    "        # Feche a sessão após o uso\n",
    "        session.close()\n",
    "\n",
    "def obterPrevisaoParada(stop_id, session):\n",
    "    while True:\n",
    "        r = session.get(f\"https://api.olhovivo.sptrans.com.br/v2.1/Previsao/Parada?codigoParada={stop_id}\")\n",
    "\n",
    "        if r.status_code == 200:\n",
    "            return {\"stop_id\": stop_id, **r.json()}\n",
    "\n",
    "        elif r.status_code == 429:\n",
    "            time.sleep(60)\n",
    "            \n",
    "        else:\n",
    "            return None"
   ]
  },
  {
   "cell_type": "code",
   "execution_count": 5,
   "id": "021f5f76-08cf-49d1-bc6a-baadfe2d65db",
   "metadata": {},
   "outputs": [],
   "source": [
    "previsao_schema = StructType([\n",
    "    StructField(\"stop_id\", StringType(), True),\n",
    "    StructField(\"hr\", StringType(), True),\n",
    "    StructField(\"p\", StructType([\n",
    "        StructField(\"cp\", LongType(), True),\n",
    "        StructField(\"np\", StringType(), True),\n",
    "        StructField(\"py\", FloatType(), True),\n",
    "        StructField(\"px\", FloatType(), True),\n",
    "        StructField(\"l\", ArrayType(StructType([\n",
    "            StructField(\"c\", StringType(), True),\n",
    "            StructField(\"cl\", IntegerType(), True),\n",
    "            StructField(\"sl\", IntegerType(), True),\n",
    "            StructField(\"lt0\", StringType(), True),\n",
    "            StructField(\"lt1\", StringType(), True),\n",
    "            StructField(\"qv\", IntegerType(), True),\n",
    "            StructField(\"vs\", ArrayType(StructType([\n",
    "                StructField(\"p\", StringType(), True),\n",
    "                StructField(\"a\", BooleanType(), True),\n",
    "                StructField(\"ta\", StringType(), True),\n",
    "                StructField(\"py\", FloatType(), True),\n",
    "                StructField(\"px\", FloatType(), True)\n",
    "            ])), True),\n",
    "        ])), True)\n",
    "    ]), True)\n",
    "])"
   ]
  },
  {
   "cell_type": "code",
   "execution_count": 34,
   "id": "46c327fc-1498-4cad-8f99-eca268bc5c5f",
   "metadata": {},
   "outputs": [],
   "source": [
    "session = autenticar()\n"
   ]
  },
  {
   "cell_type": "code",
   "execution_count": 8,
   "id": "ba694107-0ba7-4703-b876-b8c711102b5e",
   "metadata": {},
   "outputs": [
    {
     "data": {
      "text/plain": [
       "20352"
      ]
     },
     "execution_count": 8,
     "metadata": {},
     "output_type": "execute_result"
    }
   ],
   "source": [
    "paradas.filter(\"stop_desc is not null\").count()"
   ]
  },
  {
   "cell_type": "code",
   "execution_count": 35,
   "id": "b27fa7b2-5e22-43dd-849c-6942bdf0875f",
   "metadata": {},
   "outputs": [],
   "source": [
    "# paradas = spark.read.csv(\"s3a://raw/GTFS/paradas/*.txt\", header=True)\n",
    "# paradas_rdd = paradas.filter(\"stop_desc is not null\").select(\"stop_id\").rdd\n",
    "# previsao = paradas_rdd.map(lambda x: x.asDict()[\"stop_id\"]).map(lambda x: obterPrevisaoParada(x, session)).map(lambda x: Row(data=json.dumps(x)))\n",
    "# previsao_df = spark.createDataFrame(previsao, StructType([StructField(\"data\", StringType(), True)]))\n",
    "# previsao_df.write.mode(\"overwrite\").parquet(\"s3a://raw/temp/test_paradas/\")"
   ]
  },
  {
   "cell_type": "code",
   "execution_count": 40,
   "id": "0fee20d8-a5f7-4fd4-8d03-5513997c9b7e",
   "metadata": {},
   "outputs": [
    {
     "name": "stdout",
     "output_type": "stream",
     "text": [
      "20352\n"
     ]
    }
   ],
   "source": [
    "previsao_df = spark.read.parquet(\"s3a://raw/temp/test_paradas/\")\n",
    "print(previsao_df.count())"
   ]
  },
  {
   "cell_type": "code",
   "execution_count": 46,
   "id": "ed34b67c-8feb-4355-8d90-df3b5a2b7bcd",
   "metadata": {},
   "outputs": [
    {
     "name": "stdout",
     "output_type": "stream",
     "text": [
      "+---------+-----+-------------------------------------------------------------------------------------------------------------------------------------------------------------------------------------------------------------------------------------------------------------------------------------------------------------------------------------------------------------------------------------------------------------------------------------------------------------------------------------------------------------------------------------------------------------------------------------------------------------------------------------------------------------------------------------------------------------------------------------------------------------------------------------------------------------------------------------------------------------------------------------------------------------------------------------------------------------------------------------+\n",
      "|stop_id  |hr   |p                                                                                                                                                                                                                                                                                                                                                                                                                                                                                                                                                                                                                                                                                                                                                                                                                                                                                                                                                                                    |\n",
      "+---------+-----+-------------------------------------------------------------------------------------------------------------------------------------------------------------------------------------------------------------------------------------------------------------------------------------------------------------------------------------------------------------------------------------------------------------------------------------------------------------------------------------------------------------------------------------------------------------------------------------------------------------------------------------------------------------------------------------------------------------------------------------------------------------------------------------------------------------------------------------------------------------------------------------------------------------------------------------------------------------------------------------+\n",
      "|260016860|22:25|{260016860, CAIO PRADO C/B, -23.548311, -46.650406, [{702C-10, 33253, 2, METRÔ BELÉM, JD. BONFIGLIOLI, 1, [{81596, true, 2024-09-20T01:25:32Z, -23.543915, -46.64221}]}, {778R-10, 33277, 2, TERM. PRINC. ISABEL, COHAB RAPOSO TAVARES, 1, [{81250, true, 2024-09-20T01:25:25Z, -23.541784, -46.643986}]}, {701U-10, 657, 1, CID. UNIVERSITÁRIA, METRÔ SANTANA, 1, [{21777, true, 2024-09-20T01:25:35Z, -23.537485, -46.6344}]}, {178L-10, 560, 1, HOSP. DAS CLÍNICAS, LAUZANE PAULISTA, 2, [{22682, true, 2024-09-20T01:25:37Z, -23.534727, -46.649525}, {22690, true, 2024-09-20T01:25:13Z, -23.500141, -46.63221}]}, {701A-10, 689, 1, METRÔ VL. MADALENA, PQ. EDU CHAVES, 3, [{21395, true, 2024-09-20T01:25:46Z, -23.539982, -46.613754}, {21393, true, 2024-09-20T01:25:37Z, -23.52678, -46.596302}, {21444, true, 2024-09-20T01:25:38Z, -23.504377, -46.59193}]}, {875A-10, 33377, 2, PERDIZES, AEROPORTO, 1, [{64482, true, 2024-09-20T01:25:25Z, -23.533873, -46.665447}]}]}|\n",
      "+---------+-----+-------------------------------------------------------------------------------------------------------------------------------------------------------------------------------------------------------------------------------------------------------------------------------------------------------------------------------------------------------------------------------------------------------------------------------------------------------------------------------------------------------------------------------------------------------------------------------------------------------------------------------------------------------------------------------------------------------------------------------------------------------------------------------------------------------------------------------------------------------------------------------------------------------------------------------------------------------------------------------------+\n",
      "\n"
     ]
    },
    {
     "name": "stderr",
     "output_type": "stream",
     "text": [
      "----------------------------------------\n",
      "Exception occurred during processing of request from ('127.0.0.1', 50158)\n",
      "Traceback (most recent call last):\n",
      "  File \"/opt/conda/lib/python3.10/socketserver.py\", line 316, in _handle_request_noblock\n",
      "    self.process_request(request, client_address)\n",
      "  File \"/opt/conda/lib/python3.10/socketserver.py\", line 347, in process_request\n",
      "    self.finish_request(request, client_address)\n",
      "  File \"/opt/conda/lib/python3.10/socketserver.py\", line 360, in finish_request\n",
      "    self.RequestHandlerClass(request, client_address, self)\n",
      "  File \"/opt/conda/lib/python3.10/socketserver.py\", line 747, in __init__\n",
      "    self.handle()\n",
      "  File \"/usr/local/spark/python/pyspark/accumulators.py\", line 281, in handle\n",
      "    poll(accum_updates)\n",
      "  File \"/usr/local/spark/python/pyspark/accumulators.py\", line 253, in poll\n",
      "    if func():\n",
      "  File \"/usr/local/spark/python/pyspark/accumulators.py\", line 257, in accum_updates\n",
      "    num_updates = read_int(self.rfile)\n",
      "  File \"/usr/local/spark/python/pyspark/serializers.py\", line 595, in read_int\n",
      "    raise EOFError\n",
      "EOFError\n",
      "----------------------------------------\n"
     ]
    }
   ],
   "source": [
    "aa = (previsao_df\n",
    "          .select(\n",
    "              from_json(\"data\", previsao_schema).alias(\"dd\")\n",
    "          ).select(\"dd.*\")\n",
    "     ) #260016860\n",
    "\n",
    "aa.filter(\"stop_id = '260016860'\").show(truncate=False)"
   ]
  },
  {
   "cell_type": "code",
   "execution_count": 14,
   "id": "0f809eec-3fca-4ef9-8a6f-aae8985157f5",
   "metadata": {},
   "outputs": [
    {
     "name": "stdout",
     "output_type": "stream",
     "text": [
      "10000\n"
     ]
    }
   ],
   "source": [
    "paradas = spark.read.csv(\"s3a://raw/GTFS/paradas/*.txt\", header=True)\n",
    "paradas_rdd = paradas.filter(\"stop_desc is not null\").select(\"stop_id\").rdd\n",
    "previsao = paradas_rdd.map(lambda x: x.asDict()[\"stop_id\"]).map(lambda x: obterPrevisaoParada(x, session))\n",
    "previsao_df = spark.createDataFrame(previsao, previsao_schema).cache()\n",
    "print(previsao_df.count())"
   ]
  },
  {
   "cell_type": "code",
   "execution_count": 15,
   "id": "f235ad91-06ab-4464-8c44-3c456b28e652",
   "metadata": {},
   "outputs": [
    {
     "name": "stdout",
     "output_type": "stream",
     "text": [
      "+-------+-----+--------------------+\n",
      "|stop_id|   hr|                   p|\n",
      "+-------+-----+--------------------+\n",
      "|  19073|20:48|                null|\n",
      "| 104763|20:48|                null|\n",
      "| 105268|20:48|{105268, , -23.57...|\n",
      "| 105368|20:48|{105368, , -23.57...|\n",
      "| 105388|20:48|{105388, , -23.57...|\n",
      "| 105424|20:48|{105424, , -23.57...|\n",
      "| 105431|20:48|{105431, , -23.56...|\n",
      "| 105432|20:48|{105432, , -23.56...|\n",
      "| 109574|20:48|{109574, , -23.55...|\n",
      "| 109576|20:48|{109576, , -23.55...|\n",
      "| 109594|20:48|                null|\n",
      "| 109595|20:48|{109595, , -23.56...|\n",
      "| 109731|20:48|{109731, , -23.56...|\n",
      "| 109733|20:48|{109733, , -23.55...|\n",
      "| 109738|20:48|{109738, , -23.56...|\n",
      "| 109739|20:48|                null|\n",
      "| 109740|20:48|                null|\n",
      "| 109741|20:48|{109741, , -23.56...|\n",
      "| 109751|20:48|{109751, , -23.57...|\n",
      "| 109754|20:48|                null|\n",
      "+-------+-----+--------------------+\n",
      "only showing top 20 rows\n",
      "\n"
     ]
    }
   ],
   "source": [
    "previsao_df.show()"
   ]
  },
  {
   "cell_type": "code",
   "execution_count": 6,
   "id": "c0a9664e-d603-4d6a-b037-b3ed5989ae09",
   "metadata": {},
   "outputs": [
    {
     "name": "stdout",
     "output_type": "stream",
     "text": [
      "++\n",
      "||\n",
      "++\n",
      "++\n",
      "\n"
     ]
    }
   ],
   "source": [
    "spark.sql(\"create external table stage.teste2 (id string) using delta location 's3a://stage/teste/' \").show()"
   ]
  },
  {
   "cell_type": "code",
   "execution_count": 14,
   "id": "7d97c717-72b0-41cd-bcdb-fc5488b98a6e",
   "metadata": {},
   "outputs": [
    {
     "name": "stdout",
     "output_type": "stream",
     "text": [
      "+---------+---------+-----------+\n",
      "|namespace|tableName|isTemporary|\n",
      "+---------+---------+-----------+\n",
      "|    stage| corredor|      false|\n",
      "|    stage|    teste|      false|\n",
      "+---------+---------+-----------+\n",
      "\n"
     ]
    }
   ],
   "source": [
    "spark.sql(\"show tables from stage\").show()"
   ]
  },
  {
   "cell_type": "code",
   "execution_count": 29,
   "id": "60cd5fd2-3c13-4b1e-ba74-e03913bb86de",
   "metadata": {},
   "outputs": [
    {
     "name": "stdout",
     "output_type": "stream",
     "text": [
      "+---+\n",
      "| id|\n",
      "+---+\n",
      "| aa|\n",
      "+---+\n",
      "\n"
     ]
    }
   ],
   "source": [
    "a = spark.createDataFrame([{\"id\": \"aa\"}])\n",
    "\n",
    "a.show()"
   ]
  },
  {
   "cell_type": "code",
   "execution_count": 32,
   "id": "e242896e-be74-48ef-9db7-324ef27d103e",
   "metadata": {},
   "outputs": [
    {
     "name": "stdout",
     "output_type": "stream",
     "text": [
      "++\n",
      "||\n",
      "++\n",
      "++\n",
      "\n"
     ]
    },
    {
     "name": "stderr",
     "output_type": "stream",
     "text": [
      "----------------------------------------\n",
      "Exception occurred during processing of request from ('127.0.0.1', 42990)\n",
      "Traceback (most recent call last):\n",
      "  File \"/opt/conda/lib/python3.10/socketserver.py\", line 316, in _handle_request_noblock\n",
      "    self.process_request(request, client_address)\n",
      "  File \"/opt/conda/lib/python3.10/socketserver.py\", line 347, in process_request\n",
      "    self.finish_request(request, client_address)\n",
      "  File \"/opt/conda/lib/python3.10/socketserver.py\", line 360, in finish_request\n",
      "    self.RequestHandlerClass(request, client_address, self)\n",
      "  File \"/opt/conda/lib/python3.10/socketserver.py\", line 747, in __init__\n",
      "    self.handle()\n",
      "  File \"/usr/local/spark/python/pyspark/accumulators.py\", line 281, in handle\n",
      "    poll(accum_updates)\n",
      "  File \"/usr/local/spark/python/pyspark/accumulators.py\", line 253, in poll\n",
      "    if func():\n",
      "  File \"/usr/local/spark/python/pyspark/accumulators.py\", line 257, in accum_updates\n",
      "    num_updates = read_int(self.rfile)\n",
      "  File \"/usr/local/spark/python/pyspark/serializers.py\", line 595, in read_int\n",
      "    raise EOFError\n",
      "EOFError\n",
      "----------------------------------------\n"
     ]
    }
   ],
   "source": [
    "spark.sql(\"drop table stage.teste_external\").show()"
   ]
  },
  {
   "cell_type": "code",
   "execution_count": 30,
   "id": "0b671194-98e4-4820-84d0-523232a7bdf5",
   "metadata": {},
   "outputs": [],
   "source": [
    "try:\n",
    "    a.write.format(\"delta\").saveAsTable(\"stage.teste\")\n",
    "except:\n",
    "    pass"
   ]
  },
  {
   "cell_type": "code",
   "execution_count": 4,
   "id": "cb1e5825-673d-47cc-8f83-55613c95849c",
   "metadata": {},
   "outputs": [
    {
     "data": {
      "text/plain": [
       "'2024-09-19'"
      ]
     },
     "execution_count": 4,
     "metadata": {},
     "output_type": "execute_result"
    }
   ],
   "source": [
    "from datetime import datetime\n",
    "\n",
    "datetime.now().strftime(\"%Y-%m-%d\")"
   ]
  },
  {
   "cell_type": "code",
   "execution_count": 3,
   "id": "df123b56-e8cc-4c59-8ff2-e4ca7ee7af3c",
   "metadata": {},
   "outputs": [
    {
     "data": {
      "text/html": [
       "<table border='1'>\n",
       "<tr><th>hr</th><th>l</th></tr>\n",
       "<tr><td>17:17</td><td>[{2702-10, 33682,...</td></tr>\n",
       "<tr><td>18:07</td><td>[{2702-10, 914, M...</td></tr>\n",
       "<tr><td>18:12</td><td>[{2702-10, 914, M...</td></tr>\n",
       "<tr><td>18:15</td><td>[{2702-10, 914, M...</td></tr>\n",
       "<tr><td>18:13</td><td>[{2702-10, 914, M...</td></tr>\n",
       "<tr><td>18:14</td><td>[{2702-10, 914, M...</td></tr>\n",
       "</table>\n"
      ],
      "text/plain": [
       "+-----+--------------------+\n",
       "|   hr|                   l|\n",
       "+-----+--------------------+\n",
       "|17:17|[{2702-10, 33682,...|\n",
       "|18:07|[{2702-10, 914, M...|\n",
       "|18:12|[{2702-10, 914, M...|\n",
       "|18:15|[{2702-10, 914, M...|\n",
       "|18:13|[{2702-10, 914, M...|\n",
       "|18:14|[{2702-10, 914, M...|\n",
       "+-----+--------------------+"
      ]
     },
     "execution_count": 3,
     "metadata": {},
     "output_type": "execute_result"
    }
   ],
   "source": [
    "df_posicao = spark.read.json(f\"s3a://raw/olhovivo/posicao/dt=2024-09-21/\")\n",
    "df_posicao"
   ]
  },
  {
   "cell_type": "code",
   "execution_count": 4,
   "id": "936f1115-69a9-42c3-b5a0-05f5d52034df",
   "metadata": {},
   "outputs": [
    {
     "name": "stdout",
     "output_type": "stream",
     "text": [
      "+-------+-----+--------------------+-------------------+---+---+--------------------+\n",
      "|      c|   cl|                 lt0|                lt1| qv| sl|                  vs|\n",
      "+-------+-----+--------------------+-------------------+---+---+--------------------+\n",
      "|2702-10|33682|   METRÔ ARTUR ALVIM|      VL. AMERICANA|  5|  2|[{true, 36281, -4...|\n",
      "|6016-41| 1706|        TERM. GRAJAÚ|    JD. PORTO VELHO|  2|  1|[{true, 66789, -4...|\n",
      "|307C-10|34882|   METRÔ ARTUR ALVIM|CONJ. ENCOSTA NORTE|  4|  2|[{true, 32139, -4...|\n",
      "|5757-10| 1288|     METRÔ CONCEIÇÃO|         CID. JÚLIA|  5|  1|[{true, 68054, -4...|\n",
      "|6036-10| 1214|     TERM. CAPELINHA|      JD. MACEDÔNIA|  5|  1|[{true, 78578, -4...|\n",
      "|5010-10| 1114|          STO. AMARO|          JABAQUARA|  2|  1|[{true, 68033, -4...|\n",
      "|5106-31|34073|      METRÔ ANA ROSA|          JD. SELMA|  3|  2|[{true, 63594, -4...|\n",
      "|6026-10|   87|    TERM. STO. AMARO|         JD. ICARAÍ|  3|  1|[{true, 61269, -4...|\n",
      "|527R-10|  271|    TERM. STO. AMARO|        VL. IMPÉRIO|  3|  1|[{true, 68143, -4...|\n",
      "|819A-10|33571|       JD. PRIMAVERA|    CPTM VL. AURORA| 11|  2|[{true, 16078, -4...|\n",
      "| 8700-1|35276|PÇA. RAMOS DE AZE...|  TERM. CAMPO LIMPO|  2|  2|[{true, 82418, -4...|\n",
      "|8400-10| 1265|PÇA. RAMOS DE AZE...|     TERM. PIRITUBA|  4|  1|[{true, 11750, -4...|\n",
      "|746P-10|33556|          STO. AMARO|       PARAISÓPOLIS|  9|  2|[{true, 85573, -4...|\n",
      "|6258-31| 1783|      JD. IBIRAPUERA| JD. STA. MARGARIDA|  2|  1|[{true, 78706, -4...|\n",
      "|4002-10|34945|    TERM. VL. CARRÃO|         GUAIANASES|  5|  2|[{true, 31674, -4...|\n",
      "|6L10-10| 1159|    PQ. FLORESTAL   |     TERM. VARGINHA|  7|  1|[{true, 66599, -4...|\n",
      "|7006-10| 1995|          JD. ÂNGELA| JD. HORIZONTE AZUL|  5|  1|[{true, 78876, -4...|\n",
      "|N535-11|35155|         JD. CELESTE|       TERM. SACOMÃ|  1|  2|[{true, 51037, -4...|\n",
      "|7053-22|34664|   TERM. CAMPO LIMPO|  JD. MARIA SAMPAIO|  2|  2|[{true, 78072, -4...|\n",
      "|6L03-10|34333|   TERM. PARELHEIROS|       CIPÓ DO MEIO|  1|  2|[{true, 66948, -4...|\n",
      "+-------+-----+--------------------+-------------------+---+---+--------------------+\n",
      "only showing top 20 rows\n",
      "\n"
     ]
    }
   ],
   "source": [
    "a = df_posicao.select(explode(\"l\").alias(\"l\")).select(\"l.*\")\n",
    "a.show()"
   ]
  },
  {
   "cell_type": "code",
   "execution_count": null,
   "id": "c60cd8f6-17c2-4951-9c4f-8b05fbda180a",
   "metadata": {},
   "outputs": [],
   "source": [
    "window_spec = Window.partitionBy(\"Empresa.a\").orderBy(col(\"Hora\").desc())\n",
    "df_empresa_tratado = df_empresa.withColumn(\"row_num\", row_number().over(window_spec)) \\\n",
    "                       .filter(col(\"row_num\") == 1) \\\n",
    "                       .drop(\"row_num\")"
   ]
  }
 ],
 "metadata": {
  "kernelspec": {
   "display_name": "Python 3 (ipykernel)",
   "language": "python",
   "name": "python3"
  },
  "language_info": {
   "codemirror_mode": {
    "name": "ipython",
    "version": 3
   },
   "file_extension": ".py",
   "mimetype": "text/x-python",
   "name": "python",
   "nbconvert_exporter": "python",
   "pygments_lexer": "ipython3",
   "version": "3.10.8"
  }
 },
 "nbformat": 4,
 "nbformat_minor": 5
}
