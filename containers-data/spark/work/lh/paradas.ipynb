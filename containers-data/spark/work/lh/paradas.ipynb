{
 "cells": [
  {
   "cell_type": "code",
   "execution_count": 67,
   "id": "41b69983-4d48-474f-a22f-e044e92d0ec3",
   "metadata": {},
   "outputs": [],
   "source": [
    "import requests\n",
    "from pyspark.sql import SparkSession, Row, Window\n",
    "from pyspark.sql.functions import *\n",
    "from pyspark.sql.types import *\n",
    "import time\n",
    "import json\n",
    "from delta import DeltaTable\n",
    "\n",
    "spark = (SparkSession.builder\n",
    "             .appName('lab') # Name the app\n",
    "             .config(\"hive.metastore.uris\", \"thrift://metastore:9083\") # Set external Hive Metastore\n",
    "             .config(\"hive.metastore.schema.verification\", \"false\") # Prevent some errors\n",
    "             .config(\"spark.sql.repl.eagerEval.enabled\", True)\n",
    "             .config(\"spark.sql.extensions\", \"io.delta.sql.DeltaSparkSessionExtension\")\n",
    "             .config(\"spark.sql.catalog.spark_catalog\", \"org.apache.spark.sql.delta.catalog.DeltaCatalog\")\n",
    "             .enableHiveSupport()\n",
    "             .getOrCreate())\n",
    "\n",
    "dt_now = \"2024-09-24\""
   ]
  },
  {
   "cell_type": "code",
   "execution_count": 84,
   "id": "f32efad7-6931-43cd-9dcb-467c23e30029",
   "metadata": {},
   "outputs": [
    {
     "name": "stdout",
     "output_type": "stream",
     "text": [
      "+---------+\n",
      "|namespace|\n",
      "+---------+\n",
      "| business|\n",
      "|  default|\n",
      "|    stage|\n",
      "+---------+\n",
      "\n"
     ]
    }
   ],
   "source": [
    "spark.sql(\"show databases\").show()"
   ]
  },
  {
   "cell_type": "code",
   "execution_count": 85,
   "id": "1301450f-133c-4498-850b-c399bba89f3f",
   "metadata": {},
   "outputs": [
    {
     "name": "stdout",
     "output_type": "stream",
     "text": [
      "+---------+-----------+-----------+\n",
      "|namespace|  tableName|isTemporary|\n",
      "+---------+-----------+-----------+\n",
      "|    stage|   corredor|      false|\n",
      "|    stage|    posicao|      false|\n",
      "|    stage|     linhas|      false|\n",
      "|    stage|    paradas|      false|\n",
      "|    stage|      trips|      false|\n",
      "|    stage|    empresa|      false|\n",
      "|    stage|   previsao|      false|\n",
      "|    stage| linhas_api|      false|\n",
      "|    stage|paradas_api|      false|\n",
      "+---------+-----------+-----------+\n",
      "\n"
     ]
    }
   ],
   "source": [
    "spark.sql(\"show tables from stage\").show()"
   ]
  },
  {
   "cell_type": "code",
   "execution_count": 103,
   "id": "75ef1e78-01b7-4e05-b986-97fdb39e0fc1",
   "metadata": {},
   "outputs": [
    {
     "name": "stdout",
     "output_type": "stream",
     "text": [
      "+---------+-----------+-----------+\n",
      "|namespace|  tableName|isTemporary|\n",
      "+---------+-----------+-----------+\n",
      "| business|    posicao|      false|\n",
      "| business|   previsao|      false|\n",
      "| business|    paradas|      false|\n",
      "| business|paradas_api|      false|\n",
      "| business|      trips|      false|\n",
      "+---------+-----------+-----------+\n",
      "\n"
     ]
    }
   ],
   "source": [
    "spark.sql(\"show tables from business\").show()"
   ]
  },
  {
   "cell_type": "code",
   "execution_count": 108,
   "id": "cccffec9-bbcd-4e54-b601-6adaaeba7212",
   "metadata": {},
   "outputs": [
    {
     "name": "stdout",
     "output_type": "stream",
     "text": [
      "+---------------+---------+-------+\n",
      "|col_name       |data_type|comment|\n",
      "+---------------+---------+-------+\n",
      "|route_id       |string   |       |\n",
      "|service_id     |string   |       |\n",
      "|trip_id        |string   |       |\n",
      "|trip_headsign  |string   |       |\n",
      "|direction_id   |string   |       |\n",
      "|shape_id       |string   |       |\n",
      "|               |         |       |\n",
      "|# Partitioning |         |       |\n",
      "|Not partitioned|         |       |\n",
      "+---------------+---------+-------+\n",
      "\n"
     ]
    }
   ],
   "source": [
    "spark.sql(\"describe business.trips\").show(truncate=False)"
   ]
  },
  {
   "cell_type": "code",
   "execution_count": null,
   "id": "e7e2040b-f6aa-4a8b-9c69-aeaebea6a4d2",
   "metadata": {},
   "outputs": [],
   "source": [
    "def autenticar():\n",
    "    # endpoint da API para autenticar\n",
    "    api_url = \"https://api.olhovivo.sptrans.com.br/v2.1/Login/Autenticar?token=fa1ae741481d20625673b2020fdd07bcfdcf5d60f27d226a069812a94de3edd0\"\n",
    "\n",
    "    # Inicialize uma sessão do requests\n",
    "    session = requests.Session()\n",
    "\n",
    "    try:\n",
    "        # Faz a requisição post para a API usando a sessão\n",
    "        response = session.post(api_url)\n",
    "\n",
    "        # Verifique se a requisição foi bem-sucedida (código de status 200)\n",
    "        if response.status_code == 200:\n",
    "            # Extraia o conteúdo JSON (ou texto) da resposta\n",
    "            data = response.json()  # ou response.text se for texto\n",
    "          \n",
    "            return session                \n",
    "        else:\n",
    "            print(f\"Falha ao acessar a API. Status Code: {session.post(api_url).status_code}\")      \n",
    "            \n",
    "    finally:\n",
    "        # Feche a sessão após o uso\n",
    "        session.close()"
   ]
  },
  {
   "cell_type": "code",
   "execution_count": 71,
   "id": "9ea0fcce-331e-4105-90bb-993a1fddf477",
   "metadata": {},
   "outputs": [
    {
     "data": {
      "text/plain": [
       "2650"
      ]
     },
     "execution_count": 71,
     "metadata": {},
     "output_type": "execute_result"
    }
   ],
   "source": [
    "def obterParadasLinha(linha_id, session):\n",
    "    while True:\n",
    "        r = session.get(f\"https://api.olhovivo.sptrans.com.br/v2.1/Parada/BuscarParadasPorLinha?codigoLinha={linha_id}\")\n",
    "\n",
    "        if r.status_code == 200:\n",
    "            return {\"linha_id\": linha_id, \"data\": r.json()}\n",
    "\n",
    "        elif r.status_code == 429:\n",
    "            time.sleep(60)\n",
    "            \n",
    "        else:\n",
    "            return None\n",
    "\n",
    "linhas_schema = StructType([\n",
    "    StructField(\"route_id\", StringType(), True),\n",
    "    StructField(\"cl\", StringType(), True),\n",
    "    StructField(\"lc\", StringType(), True),\n",
    "    StructField(\"lt\", StringType(), True),\n",
    "    StructField(\"sl\", StringType(), True),\n",
    "    StructField(\"tl\", StringType(), True),\n",
    "    StructField(\"tp\", StringType(), True),\n",
    "    StructField(\"ts\", StringType(), True)\n",
    "])\n",
    "\n",
    "session = autenticar()\n",
    "\n",
    "linhas_df = spark.read.schema(linhas_schema).format(\"json\").load(f\"s3a://raw/olhovivo/linhas/dt={dt_now}/\")\n",
    "linhas_rdd = linhas_df.select(\"cl\").distinct().rdd\n",
    "paradas_rdd = linhas_rdd.map(lambda x: x.asDict()[\"cl\"]).map(lambda x: obterParadasLinha(x, session)).map(lambda x: Row(data=json.dumps(x)))\n",
    "paradas_df = spark.createDataFrame(paradas_rdd, StructType([StructField(\"data\", StringType(), True)]))\n",
    "\n",
    "paradas_df.count()"
   ]
  },
  {
   "cell_type": "code",
   "execution_count": 72,
   "id": "c6b942a1-9be3-4fac-931f-a673505abc43",
   "metadata": {},
   "outputs": [
    {
     "data": {
      "text/html": [
       "<table border='1'>\n",
       "<tr><th>cp</th><th>ed</th><th>linha_id</th><th>np</th><th>px</th><th>py</th></tr>\n",
       "<tr><td>560009160</td><td>R JOSE NICOLAU DE...</td><td>1159</td><td>JOSÉ NICOLAU DE L...</td><td>-46.72303</td><td>-23.777145</td></tr>\n",
       "<tr><td>560009163</td><td>R NIELS CHRISTIAN...</td><td>1159</td><td>ELEVATÓRIA SABESP...</td><td>-46.725802</td><td>-23.781379</td></tr>\n",
       "<tr><td>560009164</td><td>R NIELS CHRISTIAN...</td><td>1159</td><td>NIELS C. SORENSEN...</td><td>-46.726102</td><td>-23.785907</td></tr>\n",
       "<tr><td>560009167</td><td>R PAIOL VELHO/ R ...</td><td>1159</td><td>ALFREDO REIMBERG C/B</td><td>-46.727033</td><td>-23.791088</td></tr>\n",
       "<tr><td>560009169</td><td>AV FERNANDO DA CR...</td><td>1159</td><td>ESTRADA DO PINHAL...</td><td>-46.729377</td><td>-23.793311</td></tr>\n",
       "<tr><td>560009172</td><td>R HENRIQUE HESSEL...</td><td>1159</td><td>BALTAZARINI C/B</td><td>-46.731426</td><td>-23.799048</td></tr>\n",
       "<tr><td>560009174</td><td>R CAROLINA REIMBE...</td><td>1159</td><td>ESTRADA DO PAIOL C/B</td><td>-46.734008</td><td>-23.801384</td></tr>\n",
       "<tr><td>560009231</td><td>R AMARO ALVES DO ...</td><td>1159</td><td>SATÉLITE ARIEL C/B</td><td>-46.72081</td><td>-23.773559</td></tr>\n",
       "<tr><td>230009829</td><td>R FREDERICO RENE ...</td><td>2393</td><td>RIO BONITO ESQUER...</td><td>-46.698916</td><td>-23.71823</td></tr>\n",
       "<tr><td>230009831</td><td>R FREDERICO RENE ...</td><td>2393</td><td>RIO BONITO DIREIT...</td><td>-46.698884</td><td>-23.718222</td></tr>\n",
       "<tr><td>230009836</td><td>R TSUNEO HATA/ R ...</td><td>2393</td><td>RODRIGUES VILARES...</td><td>-46.699209</td><td>-23.7279</td></tr>\n",
       "<tr><td>230009870</td><td>R TSUNEO HATA/ R ...</td><td>2393</td><td>LOUREIRO ROSA B/C</td><td>-46.698816</td><td>-23.728978</td></tr>\n",
       "<tr><td>230009871</td><td>AV RODRIGUES VILA...</td><td>2393</td><td>RODRIGUES VILARES...</td><td>-46.699391</td><td>-23.726689</td></tr>\n",
       "<tr><td>230009957</td><td>R MARIO MARTINS D...</td><td>2393</td><td>MÁRIO MARTINS B/C</td><td>-46.71126</td><td>-23.710603</td></tr>\n",
       "<tr><td>230009960</td><td>R DOUTOR MARIO OT...</td><td>2393</td><td>PAPINI B/C</td><td>-46.708494</td><td>-23.713754</td></tr>\n",
       "<tr><td>230009962</td><td>R DOMENICO LAURO/...</td><td>2393</td><td>DOMENICO LAURO C/B</td><td>-46.704407</td><td>-23.717209</td></tr>\n",
       "<tr><td>810009941</td><td>RUA DOS INOCENTES</td><td>2393</td><td>PARADA DOS INOCEN...</td><td>-46.712195</td><td>-23.672073</td></tr>\n",
       "<tr><td>810009943</td><td>AV DO RIO BONITO</td><td>2393</td><td>JOÃO DE BARROS B/C</td><td>-46.712366</td><td>-23.676013</td></tr>\n",
       "<tr><td>810009945</td><td>RUA EDSON REGIS</td><td>2393</td><td>MAR DEL PLATA B/C</td><td>-46.713075</td><td>-23.680203</td></tr>\n",
       "<tr><td>810009948</td><td>R PRIMO TISSELI/ ...</td><td>2393</td><td>PRIMO TISSELI B/C</td><td>-46.71441</td><td>-23.684024</td></tr>\n",
       "</table>\n",
       "only showing top 20 rows\n"
      ],
      "text/plain": [
       "+---------+--------------------+--------+--------------------+----------+----------+\n",
       "|       cp|                  ed|linha_id|                  np|        px|        py|\n",
       "+---------+--------------------+--------+--------------------+----------+----------+\n",
       "|560009160|R JOSE NICOLAU DE...|    1159|JOSÉ NICOLAU DE L...| -46.72303|-23.777145|\n",
       "|560009163|R NIELS CHRISTIAN...|    1159|ELEVATÓRIA SABESP...|-46.725802|-23.781379|\n",
       "|560009164|R NIELS CHRISTIAN...|    1159|NIELS C. SORENSEN...|-46.726102|-23.785907|\n",
       "|560009167|R PAIOL VELHO/ R ...|    1159|ALFREDO REIMBERG C/B|-46.727033|-23.791088|\n",
       "|560009169|AV FERNANDO DA CR...|    1159|ESTRADA DO PINHAL...|-46.729377|-23.793311|\n",
       "|560009172|R HENRIQUE HESSEL...|    1159|     BALTAZARINI C/B|-46.731426|-23.799048|\n",
       "|560009174|R CAROLINA REIMBE...|    1159|ESTRADA DO PAIOL C/B|-46.734008|-23.801384|\n",
       "|560009231|R AMARO ALVES DO ...|    1159|  SATÉLITE ARIEL C/B| -46.72081|-23.773559|\n",
       "|230009829|R FREDERICO RENE ...|    2393|RIO BONITO ESQUER...|-46.698916| -23.71823|\n",
       "|230009831|R FREDERICO RENE ...|    2393|RIO BONITO DIREIT...|-46.698884|-23.718222|\n",
       "|230009836|R TSUNEO HATA/ R ...|    2393|RODRIGUES VILARES...|-46.699209|  -23.7279|\n",
       "|230009870|R TSUNEO HATA/ R ...|    2393|   LOUREIRO ROSA B/C|-46.698816|-23.728978|\n",
       "|230009871|AV RODRIGUES VILA...|    2393|RODRIGUES VILARES...|-46.699391|-23.726689|\n",
       "|230009957|R MARIO MARTINS D...|    2393|   MÁRIO MARTINS B/C| -46.71126|-23.710603|\n",
       "|230009960|R DOUTOR MARIO OT...|    2393|          PAPINI B/C|-46.708494|-23.713754|\n",
       "|230009962|R DOMENICO LAURO/...|    2393|  DOMENICO LAURO C/B|-46.704407|-23.717209|\n",
       "|810009941|   RUA DOS INOCENTES|    2393|PARADA DOS INOCEN...|-46.712195|-23.672073|\n",
       "|810009943|    AV DO RIO BONITO|    2393|  JOÃO DE BARROS B/C|-46.712366|-23.676013|\n",
       "|810009945|     RUA EDSON REGIS|    2393|   MAR DEL PLATA B/C|-46.713075|-23.680203|\n",
       "|810009948|R PRIMO TISSELI/ ...|    2393|   PRIMO TISSELI B/C| -46.71441|-23.684024|\n",
       "+---------+--------------------+--------+--------------------+----------+----------+\n",
       "only showing top 20 rows"
      ]
     },
     "execution_count": 72,
     "metadata": {},
     "output_type": "execute_result"
    }
   ],
   "source": [
    "df_paradas_api = spark.read.json(f\"s3a://raw/olhovivo/paradas/dt={dt_now}/\")\n",
    "df_paradas_api"
   ]
  },
  {
   "cell_type": "code",
   "execution_count": 74,
   "id": "3d790d62-e92e-453c-8bc4-05db8fcb8709",
   "metadata": {},
   "outputs": [
    {
     "name": "stdout",
     "output_type": "stream",
     "text": [
      "[{'cl': 2506,\n",
      "  'lc': False,\n",
      "  'lt': '8000',\n",
      "  'sl': 1,\n",
      "  'tl': 1,\n",
      "  'tp': 'PÇA. RAMOS DE AZEVEDO',\n",
      "  'ts': 'TERM. LAPA'},\n",
      " {'cl': 35274,\n",
      "  'lc': False,\n",
      "  'lt': '8000',\n",
      "  'sl': 2,\n",
      "  'tl': 1,\n",
      "  'tp': 'PÇA. RAMOS DE AZEVEDO',\n",
      "  'ts': 'TERM. LAPA'},\n",
      " {'cl': 1273,\n",
      "  'lc': False,\n",
      "  'lt': '8000',\n",
      "  'sl': 1,\n",
      "  'tl': 10,\n",
      "  'tp': 'PÇA. RAMOS DE AZEVEDO',\n",
      "  'ts': 'TERM. LAPA'},\n",
      " {'cl': 34041,\n",
      "  'lc': False,\n",
      "  'lt': '8000',\n",
      "  'sl': 2,\n",
      "  'tl': 10,\n",
      "  'tp': 'PÇA. RAMOS DE AZEVEDO',\n",
      "  'ts': 'TERM. LAPA'}]\n"
     ]
    }
   ],
   "source": [
    "session = autenticar()\n",
    "\n",
    "r= session.get(f\"https://api.olhovivo.sptrans.com.br/v2.1/Linha/Buscar?termosBusca=8000\")\n",
    "\n",
    "pprint.pprint(r.json())"
   ]
  },
  {
   "cell_type": "code",
   "execution_count": 78,
   "id": "5bfd0008-2812-444d-9741-6c6b1a9b9914",
   "metadata": {},
   "outputs": [
    {
     "data": {
      "text/plain": [
       "'19:58:45'"
      ]
     },
     "execution_count": 78,
     "metadata": {},
     "output_type": "execute_result"
    }
   ],
   "source": [
    "from datetime import datetime\n",
    "\n",
    "datetime.now().strftime(\"%H:%M\")"
   ]
  },
  {
   "cell_type": "code",
   "execution_count": 83,
   "id": "dea29f3b-014f-4c83-a41b-205a434f969f",
   "metadata": {},
   "outputs": [
    {
     "data": {
      "text/html": [
       "<table border='1'>\n",
       "<tr><th>cp</th><th>ed</th><th>hr</th><th>linha_id</th><th>np</th><th>px</th><th>py</th></tr>\n",
       "<tr><td>560009160</td><td>R JOSE NICOLAU DE...</td><td>20:10</td><td>1159</td><td>JOSÉ NICOLAU DE L...</td><td>-46.72303</td><td>-23.777145</td></tr>\n",
       "<tr><td>560009163</td><td>R NIELS CHRISTIAN...</td><td>20:10</td><td>1159</td><td>ELEVATÓRIA SABESP...</td><td>-46.725802</td><td>-23.781379</td></tr>\n",
       "<tr><td>560009164</td><td>R NIELS CHRISTIAN...</td><td>20:10</td><td>1159</td><td>NIELS C. SORENSEN...</td><td>-46.726102</td><td>-23.785907</td></tr>\n",
       "<tr><td>560009167</td><td>R PAIOL VELHO/ R ...</td><td>20:10</td><td>1159</td><td>ALFREDO REIMBERG C/B</td><td>-46.727033</td><td>-23.791088</td></tr>\n",
       "<tr><td>560009169</td><td>AV FERNANDO DA CR...</td><td>20:10</td><td>1159</td><td>ESTRADA DO PINHAL...</td><td>-46.729377</td><td>-23.793311</td></tr>\n",
       "<tr><td>560009172</td><td>R HENRIQUE HESSEL...</td><td>20:10</td><td>1159</td><td>BALTAZARINI C/B</td><td>-46.731426</td><td>-23.799048</td></tr>\n",
       "<tr><td>560009174</td><td>R CAROLINA REIMBE...</td><td>20:10</td><td>1159</td><td>ESTRADA DO PAIOL C/B</td><td>-46.734008</td><td>-23.801384</td></tr>\n",
       "<tr><td>560009231</td><td>R AMARO ALVES DO ...</td><td>20:10</td><td>1159</td><td>SATÉLITE ARIEL C/B</td><td>-46.72081</td><td>-23.773559</td></tr>\n",
       "<tr><td>230009829</td><td>R FREDERICO RENE ...</td><td>20:10</td><td>2393</td><td>RIO BONITO ESQUER...</td><td>-46.698916</td><td>-23.71823</td></tr>\n",
       "<tr><td>230009831</td><td>R FREDERICO RENE ...</td><td>20:10</td><td>2393</td><td>RIO BONITO DIREIT...</td><td>-46.698884</td><td>-23.718222</td></tr>\n",
       "<tr><td>230009836</td><td>R TSUNEO HATA/ R ...</td><td>20:10</td><td>2393</td><td>RODRIGUES VILARES...</td><td>-46.699209</td><td>-23.7279</td></tr>\n",
       "<tr><td>230009870</td><td>R TSUNEO HATA/ R ...</td><td>20:10</td><td>2393</td><td>LOUREIRO ROSA B/C</td><td>-46.698816</td><td>-23.728978</td></tr>\n",
       "<tr><td>230009871</td><td>AV RODRIGUES VILA...</td><td>20:10</td><td>2393</td><td>RODRIGUES VILARES...</td><td>-46.699391</td><td>-23.726689</td></tr>\n",
       "<tr><td>230009957</td><td>R MARIO MARTINS D...</td><td>20:10</td><td>2393</td><td>MÁRIO MARTINS B/C</td><td>-46.71126</td><td>-23.710603</td></tr>\n",
       "<tr><td>230009960</td><td>R DOUTOR MARIO OT...</td><td>20:10</td><td>2393</td><td>PAPINI B/C</td><td>-46.708494</td><td>-23.713754</td></tr>\n",
       "<tr><td>230009962</td><td>R DOMENICO LAURO/...</td><td>20:10</td><td>2393</td><td>DOMENICO LAURO C/B</td><td>-46.704407</td><td>-23.717209</td></tr>\n",
       "<tr><td>810009941</td><td>RUA DOS INOCENTES</td><td>20:10</td><td>2393</td><td>PARADA DOS INOCEN...</td><td>-46.712195</td><td>-23.672073</td></tr>\n",
       "<tr><td>810009943</td><td>AV DO RIO BONITO</td><td>20:10</td><td>2393</td><td>JOÃO DE BARROS B/C</td><td>-46.712366</td><td>-23.676013</td></tr>\n",
       "<tr><td>810009945</td><td>RUA EDSON REGIS</td><td>20:10</td><td>2393</td><td>MAR DEL PLATA B/C</td><td>-46.713075</td><td>-23.680203</td></tr>\n",
       "<tr><td>810009948</td><td>R PRIMO TISSELI/ ...</td><td>20:10</td><td>2393</td><td>PRIMO TISSELI B/C</td><td>-46.71441</td><td>-23.684024</td></tr>\n",
       "</table>\n",
       "only showing top 20 rows\n"
      ],
      "text/plain": [
       "+---------+--------------------+-----+--------+--------------------+----------+----------+\n",
       "|       cp|                  ed|   hr|linha_id|                  np|        px|        py|\n",
       "+---------+--------------------+-----+--------+--------------------+----------+----------+\n",
       "|560009160|R JOSE NICOLAU DE...|20:10|    1159|JOSÉ NICOLAU DE L...| -46.72303|-23.777145|\n",
       "|560009163|R NIELS CHRISTIAN...|20:10|    1159|ELEVATÓRIA SABESP...|-46.725802|-23.781379|\n",
       "|560009164|R NIELS CHRISTIAN...|20:10|    1159|NIELS C. SORENSEN...|-46.726102|-23.785907|\n",
       "|560009167|R PAIOL VELHO/ R ...|20:10|    1159|ALFREDO REIMBERG C/B|-46.727033|-23.791088|\n",
       "|560009169|AV FERNANDO DA CR...|20:10|    1159|ESTRADA DO PINHAL...|-46.729377|-23.793311|\n",
       "|560009172|R HENRIQUE HESSEL...|20:10|    1159|     BALTAZARINI C/B|-46.731426|-23.799048|\n",
       "|560009174|R CAROLINA REIMBE...|20:10|    1159|ESTRADA DO PAIOL C/B|-46.734008|-23.801384|\n",
       "|560009231|R AMARO ALVES DO ...|20:10|    1159|  SATÉLITE ARIEL C/B| -46.72081|-23.773559|\n",
       "|230009829|R FREDERICO RENE ...|20:10|    2393|RIO BONITO ESQUER...|-46.698916| -23.71823|\n",
       "|230009831|R FREDERICO RENE ...|20:10|    2393|RIO BONITO DIREIT...|-46.698884|-23.718222|\n",
       "|230009836|R TSUNEO HATA/ R ...|20:10|    2393|RODRIGUES VILARES...|-46.699209|  -23.7279|\n",
       "|230009870|R TSUNEO HATA/ R ...|20:10|    2393|   LOUREIRO ROSA B/C|-46.698816|-23.728978|\n",
       "|230009871|AV RODRIGUES VILA...|20:10|    2393|RODRIGUES VILARES...|-46.699391|-23.726689|\n",
       "|230009957|R MARIO MARTINS D...|20:10|    2393|   MÁRIO MARTINS B/C| -46.71126|-23.710603|\n",
       "|230009960|R DOUTOR MARIO OT...|20:10|    2393|          PAPINI B/C|-46.708494|-23.713754|\n",
       "|230009962|R DOMENICO LAURO/...|20:10|    2393|  DOMENICO LAURO C/B|-46.704407|-23.717209|\n",
       "|810009941|   RUA DOS INOCENTES|20:10|    2393|PARADA DOS INOCEN...|-46.712195|-23.672073|\n",
       "|810009943|    AV DO RIO BONITO|20:10|    2393|  JOÃO DE BARROS B/C|-46.712366|-23.676013|\n",
       "|810009945|     RUA EDSON REGIS|20:10|    2393|   MAR DEL PLATA B/C|-46.713075|-23.680203|\n",
       "|810009948|R PRIMO TISSELI/ ...|20:10|    2393|   PRIMO TISSELI B/C| -46.71441|-23.684024|\n",
       "+---------+--------------------+-----+--------+--------------------+----------+----------+\n",
       "only showing top 20 rows"
      ]
     },
     "execution_count": 83,
     "metadata": {},
     "output_type": "execute_result"
    }
   ],
   "source": [
    "df_paradas_api = spark.read.json(f\"s3a://raw/olhovivo/paradas/dt={dt_now}/\")\n",
    "df_paradas_api"
   ]
  }
 ],
 "metadata": {
  "kernelspec": {
   "display_name": "Python 3 (ipykernel)",
   "language": "python",
   "name": "python3"
  },
  "language_info": {
   "codemirror_mode": {
    "name": "ipython",
    "version": 3
   },
   "file_extension": ".py",
   "mimetype": "text/x-python",
   "name": "python",
   "nbconvert_exporter": "python",
   "pygments_lexer": "ipython3",
   "version": "3.10.8"
  }
 },
 "nbformat": 4,
 "nbformat_minor": 5
}
