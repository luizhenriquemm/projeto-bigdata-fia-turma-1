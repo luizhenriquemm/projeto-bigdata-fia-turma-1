{
 "cells": [
  {
   "cell_type": "code",
   "execution_count": 1,
   "id": "8d4df5f8-9891-4f76-b3d3-4a5cc35f2e79",
   "metadata": {},
   "outputs": [],
   "source": [
    "from pyspark.sql import SparkSession\n",
    "import requests\n",
    "spark = SparkSession.builder.appName('load').enableHiveSupport().getOrCreate()"
   ]
  },
  {
   "cell_type": "code",
   "execution_count": 2,
   "id": "e5c059ef-fe20-4ec7-bfdb-ee66b9fe6c60",
   "metadata": {},
   "outputs": [],
   "source": [
    "df = spark.createDataFrame([\n",
    "    {\"id\": 1, \"name\": \"j\"},\n",
    "    {\"id\": 2, \"name\": \"a\"},\n",
    "])"
   ]
  },
  {
   "cell_type": "code",
   "execution_count": 3,
   "id": "b52b6396-6333-4c60-9327-68921cf51565",
   "metadata": {},
   "outputs": [
    {
     "name": "stdout",
     "output_type": "stream",
     "text": [
      "+---+----+\n",
      "| id|name|\n",
      "+---+----+\n",
      "|  1|   j|\n",
      "|  2|   a|\n",
      "+---+----+\n",
      "\n"
     ]
    }
   ],
   "source": [
    "df.show()"
   ]
  },
  {
   "cell_type": "code",
   "execution_count": 5,
   "id": "4de623b0-ac47-4255-b701-84f13fe3c830",
   "metadata": {},
   "outputs": [],
   "source": [
    "df.write.json(\"s3a://raw/test/\")"
   ]
  },
  {
   "cell_type": "code",
   "execution_count": null,
   "id": "72c4c451-5afa-4765-9d05-b540e6ece592",
   "metadata": {},
   "outputs": [],
   "source": []
  }
 ],
 "metadata": {
  "kernelspec": {
   "display_name": "Python 3 (ipykernel)",
   "language": "python",
   "name": "python3"
  },
  "language_info": {
   "codemirror_mode": {
    "name": "ipython",
    "version": 3
   },
   "file_extension": ".py",
   "mimetype": "text/x-python",
   "name": "python",
   "nbconvert_exporter": "python",
   "pygments_lexer": "ipython3",
   "version": "3.10.8"
  }
 },
 "nbformat": 4,
 "nbformat_minor": 5
}
