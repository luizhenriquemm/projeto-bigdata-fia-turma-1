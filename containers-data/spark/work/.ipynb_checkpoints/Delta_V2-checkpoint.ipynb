{
 "cells": [
  {
   "cell_type": "code",
   "execution_count": 1,
   "id": "01022fc1-84cf-447c-acde-8f5a5a777e96",
   "metadata": {},
   "outputs": [],
   "source": [
    "from delta import DeltaTable\n",
    "import requests\n",
    "from pyspark.sql import SparkSession, Row\n",
    "from pyspark.sql.functions import *\n",
    "from pyspark.sql.types import *\n",
    "import time\n",
    "import json\n",
    "from pyspark.sql.functions import explode\n",
    "\n",
    "spark = SparkSession.builder.appName('load').enableHiveSupport().getOrCreate()"
   ]
  },
  {
   "cell_type": "code",
   "execution_count": 2,
   "id": "d1244647-bd5d-4787-be00-65108d67bf14",
   "metadata": {},
   "outputs": [],
   "source": [
    "# Carregando arquivos estaticos\n",
    "#linhas\n",
    "df_linhas = spark.read.csv(\"s3a://raw/GTFS/linhas\",header=True)\n",
    "\n",
    "#carrega paradas\n",
    "df_empresa = spark.read.csv(\"s3a://raw/GTFS/paradas\",header=True)\n",
    "\n",
    "#carrega trips\n",
    "df_trips = spark.read.csv(\"s3a://raw/GTFS/trips\",header=True)"
   ]
  },
  {
   "cell_type": "code",
   "execution_count": 3,
   "id": "59377e6f-9dbf-4702-8654-8230bbef3a0b",
   "metadata": {},
   "outputs": [],
   "source": [
    "#df_empresa.show()"
   ]
  },
  {
   "cell_type": "code",
   "execution_count": 4,
   "id": "1823ce90-c852-484b-b592-1b30cca0eb9d",
   "metadata": {},
   "outputs": [],
   "source": [
    "#carrega corredores\n",
    "df_corredor = spark.read.json(\"s3a://raw/olhovivo/corredor\")\n",
    "df_corredor = df_corredor.select(\\\n",
    "                   col('cc').alias('Codigo_Parada') \\\n",
    "                   ,col('nc').alias('Nome_Parada'))\n",
    "\n",
    "#carrega empresas\n",
    "df_empresa = spark.read.json(\"s3a://raw/olhovivo/empresa\")\n",
    "df_empresa = df_empresa.select(\\\n",
    "                   explode('e').alias('Empresa') \\\n",
    "                   ,col('hr').alias('Hora'))\n",
    "\n",
    "\n",
    "#carrega posições\n",
    "df_posicao = spark.read.json(\"s3a://raw/olhovivo/Posicao\")\n",
    "df_posicao = df_posicao.select(\\\n",
    "                    col('hr').alias('Hora') \\\n",
    "                    ,explode('l').alias('Linha'))\n",
    "                   "
   ]
  },
  {
   "cell_type": "code",
   "execution_count": 5,
   "id": "9bf255f3-35eb-4429-8b91-682b37d7bb12",
   "metadata": {},
   "outputs": [],
   "source": [
    "#df_empresa - df_empresa.withColumn(\"e\",explode(df_empresa['e'])) "
   ]
  },
  {
   "cell_type": "code",
   "execution_count": 6,
   "id": "01678cd4-b2d8-47f2-96af-4effff3706ea",
   "metadata": {},
   "outputs": [
    {
     "name": "stdout",
     "output_type": "stream",
     "text": [
      "root\n",
      " |-- Hora: string (nullable = true)\n",
      " |-- Linha: struct (nullable = true)\n",
      " |    |-- c: string (nullable = true)\n",
      " |    |-- cl: long (nullable = true)\n",
      " |    |-- lt0: string (nullable = true)\n",
      " |    |-- lt1: string (nullable = true)\n",
      " |    |-- qv: long (nullable = true)\n",
      " |    |-- sl: long (nullable = true)\n",
      " |    |-- vs: array (nullable = true)\n",
      " |    |    |-- element: struct (containsNull = true)\n",
      " |    |    |    |-- a: boolean (nullable = true)\n",
      " |    |    |    |-- p: long (nullable = true)\n",
      " |    |    |    |-- px: double (nullable = true)\n",
      " |    |    |    |-- py: double (nullable = true)\n",
      " |    |    |    |-- ta: string (nullable = true)\n",
      "\n"
     ]
    }
   ],
   "source": [
    "df_posicao.printSchema()\n",
    "\n",
    "\n",
    "#df_posicao.select(\\\n",
    "#                   explode('e').alias('Empresa') \\\n",
    "#                   ,col('hr').alias('Hora')).printSchema()"
   ]
  },
  {
   "cell_type": "code",
   "execution_count": 7,
   "id": "b7871575-d489-4353-a7f4-45972351c668",
   "metadata": {},
   "outputs": [
    {
     "ename": "AnalysisException",
     "evalue": "org.apache.hadoop.hive.ql.metadata.HiveException: java.lang.RuntimeException: Unable to instantiate org.apache.hadoop.hive.ql.metadata.SessionHiveMetaStoreClient",
     "output_type": "error",
     "traceback": [
      "\u001b[0;31m---------------------------------------------------------------------------\u001b[0m",
      "\u001b[0;31mAnalysisException\u001b[0m                         Traceback (most recent call last)",
      "Cell \u001b[0;32mIn[7], line 6\u001b[0m\n\u001b[1;32m      1\u001b[0m \u001b[38;5;66;03m#Criando tabelas\u001b[39;00m\n\u001b[1;32m      3\u001b[0m \u001b[43mDeltaTable\u001b[49m\u001b[38;5;241;43m.\u001b[39;49m\u001b[43mcreateIfNotExists\u001b[49m\u001b[43m(\u001b[49m\u001b[43mspark\u001b[49m\u001b[43m)\u001b[49m\u001b[43m \u001b[49m\u001b[43m\\\u001b[49m\n\u001b[1;32m      4\u001b[0m \u001b[43m  \u001b[49m\u001b[38;5;241;43m.\u001b[39;49m\u001b[43mtableName\u001b[49m\u001b[43m(\u001b[49m\u001b[38;5;124;43m\"\u001b[39;49m\u001b[38;5;124;43mstage.teste_linhas\u001b[39;49m\u001b[38;5;124;43m\"\u001b[39;49m\u001b[43m)\u001b[49m\u001b[43m\\\u001b[49m\n\u001b[1;32m      5\u001b[0m \u001b[43m  \u001b[49m\u001b[38;5;241;43m.\u001b[39;49m\u001b[43maddColumns\u001b[49m\u001b[43m(\u001b[49m\u001b[43mdf_linhas\u001b[49m\u001b[38;5;241;43m.\u001b[39;49m\u001b[43mschema\u001b[49m\u001b[43m)\u001b[49m\u001b[43m\\\u001b[49m\n\u001b[0;32m----> 6\u001b[0m \u001b[43m  \u001b[49m\u001b[38;5;241;43m.\u001b[39;49m\u001b[43mexecute\u001b[49m\u001b[43m(\u001b[49m\u001b[43m)\u001b[49m\n\u001b[1;32m      8\u001b[0m deltaTable \u001b[38;5;241m=\u001b[39m DeltaTable\u001b[38;5;241m.\u001b[39mforName(spark, \u001b[38;5;124m\"\u001b[39m\u001b[38;5;124mstage.linhas\u001b[39m\u001b[38;5;124m\"\u001b[39m)\n\u001b[1;32m     10\u001b[0m deltaTable\u001b[38;5;241m.\u001b[39malias(\u001b[38;5;124m'\u001b[39m\u001b[38;5;124mdestiny\u001b[39m\u001b[38;5;124m'\u001b[39m) \\\n\u001b[1;32m     11\u001b[0m   \u001b[38;5;241m.\u001b[39mmerge(\n\u001b[1;32m     12\u001b[0m     df\u001b[38;5;241m.\u001b[39malias(\u001b[38;5;124m'\u001b[39m\u001b[38;5;124msource\u001b[39m\u001b[38;5;124m'\u001b[39m),\n\u001b[0;32m   (...)\u001b[0m\n\u001b[1;32m     16\u001b[0m   \u001b[38;5;241m.\u001b[39mwhenNotMatchedInsertAll() \\\n\u001b[1;32m     17\u001b[0m   \u001b[38;5;241m.\u001b[39mexecute()\n",
      "File \u001b[0;32m/opt/conda/lib/python3.10/site-packages/delta/tables.py:1208\u001b[0m, in \u001b[0;36mDeltaTableBuilder.execute\u001b[0;34m(self)\u001b[0m\n\u001b[1;32m   1199\u001b[0m \u001b[38;5;129m@since\u001b[39m(\u001b[38;5;241m1.0\u001b[39m)  \u001b[38;5;66;03m# type: ignore[arg-type]\u001b[39;00m\n\u001b[1;32m   1200\u001b[0m \u001b[38;5;28;01mdef\u001b[39;00m \u001b[38;5;21mexecute\u001b[39m(\u001b[38;5;28mself\u001b[39m) \u001b[38;5;241m-\u001b[39m\u001b[38;5;241m>\u001b[39m DeltaTable:\n\u001b[1;32m   1201\u001b[0m \u001b[38;5;250m    \u001b[39m\u001b[38;5;124;03m\"\"\"\u001b[39;00m\n\u001b[1;32m   1202\u001b[0m \u001b[38;5;124;03m    Execute Table Creation.\u001b[39;00m\n\u001b[1;32m   1203\u001b[0m \n\u001b[0;32m   (...)\u001b[0m\n\u001b[1;32m   1206\u001b[0m \u001b[38;5;124;03m    .. note:: Evolving\u001b[39;00m\n\u001b[1;32m   1207\u001b[0m \u001b[38;5;124;03m    \"\"\"\u001b[39;00m\n\u001b[0;32m-> 1208\u001b[0m     jdt \u001b[38;5;241m=\u001b[39m \u001b[38;5;28;43mself\u001b[39;49m\u001b[38;5;241;43m.\u001b[39;49m\u001b[43m_jbuilder\u001b[49m\u001b[38;5;241;43m.\u001b[39;49m\u001b[43mexecute\u001b[49m\u001b[43m(\u001b[49m\u001b[43m)\u001b[49m\n\u001b[1;32m   1209\u001b[0m     \u001b[38;5;28;01mreturn\u001b[39;00m DeltaTable(\u001b[38;5;28mself\u001b[39m\u001b[38;5;241m.\u001b[39m_spark, jdt)\n",
      "File \u001b[0;32m/usr/local/spark/python/lib/py4j-0.10.9.5-src.zip/py4j/java_gateway.py:1321\u001b[0m, in \u001b[0;36mJavaMember.__call__\u001b[0;34m(self, *args)\u001b[0m\n\u001b[1;32m   1315\u001b[0m command \u001b[38;5;241m=\u001b[39m proto\u001b[38;5;241m.\u001b[39mCALL_COMMAND_NAME \u001b[38;5;241m+\u001b[39m\\\n\u001b[1;32m   1316\u001b[0m     \u001b[38;5;28mself\u001b[39m\u001b[38;5;241m.\u001b[39mcommand_header \u001b[38;5;241m+\u001b[39m\\\n\u001b[1;32m   1317\u001b[0m     args_command \u001b[38;5;241m+\u001b[39m\\\n\u001b[1;32m   1318\u001b[0m     proto\u001b[38;5;241m.\u001b[39mEND_COMMAND_PART\n\u001b[1;32m   1320\u001b[0m answer \u001b[38;5;241m=\u001b[39m \u001b[38;5;28mself\u001b[39m\u001b[38;5;241m.\u001b[39mgateway_client\u001b[38;5;241m.\u001b[39msend_command(command)\n\u001b[0;32m-> 1321\u001b[0m return_value \u001b[38;5;241m=\u001b[39m \u001b[43mget_return_value\u001b[49m\u001b[43m(\u001b[49m\n\u001b[1;32m   1322\u001b[0m \u001b[43m    \u001b[49m\u001b[43manswer\u001b[49m\u001b[43m,\u001b[49m\u001b[43m \u001b[49m\u001b[38;5;28;43mself\u001b[39;49m\u001b[38;5;241;43m.\u001b[39;49m\u001b[43mgateway_client\u001b[49m\u001b[43m,\u001b[49m\u001b[43m \u001b[49m\u001b[38;5;28;43mself\u001b[39;49m\u001b[38;5;241;43m.\u001b[39;49m\u001b[43mtarget_id\u001b[49m\u001b[43m,\u001b[49m\u001b[43m \u001b[49m\u001b[38;5;28;43mself\u001b[39;49m\u001b[38;5;241;43m.\u001b[39;49m\u001b[43mname\u001b[49m\u001b[43m)\u001b[49m\n\u001b[1;32m   1324\u001b[0m \u001b[38;5;28;01mfor\u001b[39;00m temp_arg \u001b[38;5;129;01min\u001b[39;00m temp_args:\n\u001b[1;32m   1325\u001b[0m     temp_arg\u001b[38;5;241m.\u001b[39m_detach()\n",
      "File \u001b[0;32m/usr/local/spark/python/pyspark/sql/utils.py:196\u001b[0m, in \u001b[0;36mcapture_sql_exception.<locals>.deco\u001b[0;34m(*a, **kw)\u001b[0m\n\u001b[1;32m    192\u001b[0m converted \u001b[38;5;241m=\u001b[39m convert_exception(e\u001b[38;5;241m.\u001b[39mjava_exception)\n\u001b[1;32m    193\u001b[0m \u001b[38;5;28;01mif\u001b[39;00m \u001b[38;5;129;01mnot\u001b[39;00m \u001b[38;5;28misinstance\u001b[39m(converted, UnknownException):\n\u001b[1;32m    194\u001b[0m     \u001b[38;5;66;03m# Hide where the exception came from that shows a non-Pythonic\u001b[39;00m\n\u001b[1;32m    195\u001b[0m     \u001b[38;5;66;03m# JVM exception message.\u001b[39;00m\n\u001b[0;32m--> 196\u001b[0m     \u001b[38;5;28;01mraise\u001b[39;00m converted \u001b[38;5;28;01mfrom\u001b[39;00m \u001b[38;5;28mNone\u001b[39m\n\u001b[1;32m    197\u001b[0m \u001b[38;5;28;01melse\u001b[39;00m:\n\u001b[1;32m    198\u001b[0m     \u001b[38;5;28;01mraise\u001b[39;00m\n",
      "\u001b[0;31mAnalysisException\u001b[0m: org.apache.hadoop.hive.ql.metadata.HiveException: java.lang.RuntimeException: Unable to instantiate org.apache.hadoop.hive.ql.metadata.SessionHiveMetaStoreClient"
     ]
    }
   ],
   "source": [
    "#Criando tabelas\n",
    "\n",
    "DeltaTable.createIfNotExists(spark) \\\n",
    "  .tableName(\"stage.teste_linhas\")\\\n",
    "  .addColumns(df_linhas.schema)\\\n",
    "  .execute()\n",
    "    \n",
    "deltaTable = DeltaTable.forName(spark, \"stage.linhas\")\n",
    "\n",
    "deltaTable.alias('destiny') \\\n",
    "  .merge(\n",
    "    df.alias('source'),\n",
    "    'source.id = destiny.id'\n",
    "  ) \\\n",
    "  .whenMatchedUpdateAll() \\\n",
    "  .whenNotMatchedInsertAll() \\\n",
    "  .execute()"
   ]
  },
  {
   "cell_type": "code",
   "execution_count": 87,
   "id": "4c02e32b-d546-4f04-bb64-e2c0349e2596",
   "metadata": {},
   "outputs": [],
   "source": [
    "#spark.sql(\"show database\").show()"
   ]
  },
  {
   "cell_type": "code",
   "execution_count": null,
   "id": "a1eee1b8-8986-416f-8218-11b3285841b0",
   "metadata": {},
   "outputs": [],
   "source": []
  }
 ],
 "metadata": {
  "kernelspec": {
   "display_name": "Python 3 (ipykernel)",
   "language": "python",
   "name": "python3"
  },
  "language_info": {
   "codemirror_mode": {
    "name": "ipython",
    "version": 3
   },
   "file_extension": ".py",
   "mimetype": "text/x-python",
   "name": "python",
   "nbconvert_exporter": "python",
   "pygments_lexer": "ipython3",
   "version": "3.10.8"
  }
 },
 "nbformat": 4,
 "nbformat_minor": 5
}
