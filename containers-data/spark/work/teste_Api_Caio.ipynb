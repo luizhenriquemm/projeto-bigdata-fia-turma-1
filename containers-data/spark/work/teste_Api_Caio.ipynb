{
 "cells": [
  {
   "cell_type": "code",
   "execution_count": 2,
   "id": "5adab7f4-ea33-4258-8256-bd874c13775f",
   "metadata": {},
   "outputs": [],
   "source": [
    "import requests\n",
    "from pyspark.sql import SparkSession\n",
    "from pyspark.sql.types import StructType, StructField, StringType\n",
    "\n",
    "\n",
    "\n",
    "\n",
    "# endpoint da API para autenticar\n",
    "api_url = \"https://api.olhovivo.sptrans.com.br/v2.1/Login/Autenticar?token=fa1ae741481d20625673b2020fdd07bcfdcf5d60f27d226a069812a94de3edd0\"\n",
    "\n",
    "\n"
   ]
  },
  {
   "cell_type": "code",
   "execution_count": 21,
   "id": "5efb6d35-c9ee-460f-b0d0-426f7834400d",
   "metadata": {},
   "outputs": [
    {
     "name": "stdout",
     "output_type": "stream",
     "text": [
      "Dados da API: True\n",
      "Dados da API: [{'cl': 2506, 'lc': False, 'lt': '8000', 'sl': 1, 'tl': 1, 'tp': 'PÇA. RAMOS DE AZEVEDO', 'ts': 'TERM. LAPA'}, {'cl': 35274, 'lc': False, 'lt': '8000', 'sl': 2, 'tl': 1, 'tp': 'PÇA. RAMOS DE AZEVEDO', 'ts': 'TERM. LAPA'}, {'cl': 1273, 'lc': False, 'lt': '8000', 'sl': 1, 'tl': 10, 'tp': 'PÇA. RAMOS DE AZEVEDO', 'ts': 'TERM. LAPA'}, {'cl': 34041, 'lc': False, 'lt': '8000', 'sl': 2, 'tl': 10, 'tp': 'PÇA. RAMOS DE AZEVEDO', 'ts': 'TERM. LAPA'}]\n"
     ]
    }
   ],
   "source": [
    "# Inicialize uma sessão do requests\n",
    "session = requests.Session()\n",
    "\n",
    "# endpoint da API para autenticar\n",
    "api_url_ls = \"https://api.olhovivo.sptrans.com.br/v2.1/Linha/Buscar?termosBusca=8000\"\n",
    "\n",
    "try:\n",
    "    # Faz a requisição post para a API usando a sessão\n",
    "    response = session.post(api_url)\n",
    "\n",
    "    # Verifique se a requisição foi bem-sucedida (código de status 200)\n",
    "    if response.status_code == 200:\n",
    "        # Extraia o conteúdo JSON (ou texto) da resposta\n",
    "        data = response.json()  # ou response.text se for texto\n",
    "        print(\"Dados da API:\", data)\n",
    "\n",
    "        response = session.get(api_url_ls)\n",
    "        \n",
    "        if response.status_code == 200:\n",
    "            # Extraia o conteúdo JSON (ou texto) da resposta\n",
    "            data = response.json()  # ou response.text se for texto\n",
    "            print(\"Dados da API:\", data)\n",
    "            \n",
    "            \n",
    "\n",
    "    else:\n",
    "        print(f\"Falha ao acessar a API. Status Code: {response.status_code}\")\n",
    "\n",
    "        \n",
    "finally:\n",
    "    # Feche a sessão após o uso\n",
    "    session.close()\n",
    "\n",
    "   "
   ]
  },
  {
   "cell_type": "code",
   "execution_count": 15,
   "id": "3883465b-81e5-481d-8166-13f9b971223a",
   "metadata": {},
   "outputs": [
    {
     "data": {
      "text/plain": [
       "True"
      ]
     },
     "execution_count": 15,
     "metadata": {},
     "output_type": "execute_result"
    }
   ],
   "source": [
    "data"
   ]
  },
  {
   "cell_type": "code",
   "execution_count": 10,
   "id": "4be2fc00-25b8-4839-bd66-ae73b6a34b7b",
   "metadata": {},
   "outputs": [
    {
     "ename": "NameError",
     "evalue": "name 'data' is not defined",
     "output_type": "error",
     "traceback": [
      "\u001b[0;31m---------------------------------------------------------------------------\u001b[0m",
      "\u001b[0;31mNameError\u001b[0m                                 Traceback (most recent call last)",
      "Cell \u001b[0;32mIn[10], line 1\u001b[0m\n\u001b[0;32m----> 1\u001b[0m \u001b[43mdata\u001b[49m\n",
      "\u001b[0;31mNameError\u001b[0m: name 'data' is not defined"
     ]
    }
   ],
   "source": [
    "data"
   ]
  },
  {
   "cell_type": "code",
   "execution_count": null,
   "id": "f2e9f1ff-029b-4dd1-a644-3e3a1e5e1ab0",
   "metadata": {},
   "outputs": [],
   "source": []
  }
 ],
 "metadata": {
  "kernelspec": {
   "display_name": "Python 3 (ipykernel)",
   "language": "python",
   "name": "python3"
  },
  "language_info": {
   "codemirror_mode": {
    "name": "ipython",
    "version": 3
   },
   "file_extension": ".py",
   "mimetype": "text/x-python",
   "name": "python",
   "nbconvert_exporter": "python",
   "pygments_lexer": "ipython3",
   "version": "3.10.8"
  }
 },
 "nbformat": 4,
 "nbformat_minor": 5
}
